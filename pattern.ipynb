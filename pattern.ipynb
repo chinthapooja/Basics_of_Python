{
  "nbformat": 4,
  "nbformat_minor": 0,
  "metadata": {
    "colab": {
      "provenance": []
    },
    "kernelspec": {
      "name": "python3",
      "display_name": "Python 3"
    },
    "language_info": {
      "name": "python"
    }
  },
  "cells": [
    {
      "cell_type": "code",
      "execution_count": null,
      "metadata": {
        "colab": {
          "base_uri": "https://localhost:8080/"
        },
        "id": "jq6sAnfWSGX9",
        "outputId": "03d3da3a-609b-4608-fd66-bcae33d4fd0d"
      },
      "outputs": [
        {
          "output_type": "stream",
          "name": "stdout",
          "text": [
            "enter number:5\n",
            "* \n",
            "\n",
            "* * \n",
            "\n",
            "* * * \n",
            "\n",
            "* * * * \n",
            "\n",
            "* * * * * \n",
            "\n"
          ]
        }
      ],
      "source": [
        "# half pyramid\n",
        "n = int(input(\"enter number:\"))\n",
        "for i in range(1,n+1):\n",
        "  for j in range(1,i+1):\n",
        "    print(\"*\",end=\" \")\n",
        "  print(\"\\n\")\n"
      ]
    },
    {
      "cell_type": "code",
      "source": [
        "n = int(input(\"enter number:\"))\n",
        "while(n>0):\n",
        "  for i in range(1,n+1):\n",
        "    print('*',end=' ')\n",
        "  n -= 1\n",
        "  print('\\n')"
      ],
      "metadata": {
        "colab": {
          "base_uri": "https://localhost:8080/"
        },
        "id": "s-FDCnADSe4B",
        "outputId": "d9957a4b-1569-4877-978c-636dd401f93c"
      },
      "execution_count": null,
      "outputs": [
        {
          "output_type": "stream",
          "name": "stdout",
          "text": [
            "enter number:7\n",
            "* * * * * * * \n",
            "\n",
            "* * * * * * \n",
            "\n",
            "* * * * * \n",
            "\n",
            "* * * * \n",
            "\n",
            "* * * \n",
            "\n",
            "* * \n",
            "\n",
            "* \n",
            "\n"
          ]
        }
      ]
    },
    {
      "cell_type": "code",
      "source": [
        "n = int(input(\"enter number:\"))\n",
        "for i in range(1,n+1):\n",
        "  for j in range(1,i+1):\n",
        "    print(j,end=' ')\n",
        "  print()"
      ],
      "metadata": {
        "colab": {
          "base_uri": "https://localhost:8080/"
        },
        "id": "zK6eN9lATAeK",
        "outputId": "bff8866b-b395-4787-bf9f-9eea21947ccf"
      },
      "execution_count": null,
      "outputs": [
        {
          "output_type": "stream",
          "name": "stdout",
          "text": [
            "enter number:5\n",
            "1 \n",
            "1 2 \n",
            "1 2 3 \n",
            "1 2 3 4 \n",
            "1 2 3 4 5 \n"
          ]
        }
      ]
    },
    {
      "cell_type": "code",
      "source": [
        "n = int(input(\"enter number:\"))\n",
        "c = 0\n",
        "while(n>0):\n",
        "  for i in range(c):\n",
        "    print(\" \",end=\" \")\n",
        "  for i in range(1,n+1):\n",
        "    print('*',end=' ')\n",
        "  c += 1\n",
        "  print()\n",
        "  n -= 1\n"
      ],
      "metadata": {
        "colab": {
          "base_uri": "https://localhost:8080/"
        },
        "id": "KajymOUrTaHd",
        "outputId": "5d8fc3d6-9b25-401f-812e-ea7f8e1b77e2"
      },
      "execution_count": null,
      "outputs": [
        {
          "output_type": "stream",
          "name": "stdout",
          "text": [
            "enter number:5\n",
            "* * * * * \n",
            "  * * * * \n",
            "    * * * \n",
            "      * * \n",
            "        * \n"
          ]
        }
      ]
    },
    {
      "cell_type": "code",
      "source": [
        "n = int(input(\"enter odd number:\"))\n",
        "p = int(n/2)\n",
        "q = (n%2)\n",
        "if n > 1:\n",
        "  for i in range(1,n+1,2):\n",
        "\n",
        "    for j in range(0,p):\n",
        "      print(' ',end=' ')\n",
        "    for j in range(0,q):\n",
        "      print('*',end=' ')\n",
        "    #for j in range(0,p):\n",
        "    #  print(' ',end=' ')\n",
        "    p -= 1\n",
        "    q += 2\n",
        "    print()\n"
      ],
      "metadata": {
        "colab": {
          "base_uri": "https://localhost:8080/"
        },
        "id": "-KvRhzBiVS3X",
        "outputId": "6c35ea51-1953-484e-de7d-d6296c45d124"
      },
      "execution_count": null,
      "outputs": [
        {
          "output_type": "stream",
          "name": "stdout",
          "text": [
            "enter odd number:9\n",
            "        * \n",
            "      * * * \n",
            "    * * * * * \n",
            "  * * * * * * * \n",
            "* * * * * * * * * \n"
          ]
        }
      ]
    },
    {
      "cell_type": "code",
      "source": [
        "n = int(input(\"enter number:\"))\n",
        "for i in range(n,0,-1):\n",
        "  for j in range(1,i+1):\n",
        "    print(j,end=' ')\n",
        "  print()"
      ],
      "metadata": {
        "colab": {
          "base_uri": "https://localhost:8080/"
        },
        "id": "mBzdUFoOkyMY",
        "outputId": "f6def57e-4fd0-4a34-df0f-f394bb5d100b"
      },
      "execution_count": null,
      "outputs": [
        {
          "output_type": "stream",
          "name": "stdout",
          "text": [
            "enter number:5\n",
            "1 2 3 4 5 \n",
            "1 2 3 4 \n",
            "1 2 3 \n",
            "1 2 \n",
            "1 \n"
          ]
        }
      ]
    },
    {
      "cell_type": "code",
      "source": [
        "n = int(input(\"enter number:\"))\n",
        "p = int(n/2)\n",
        "q = n%2\n",
        "c = n\n",
        "for i in range(0,n):\n",
        "  for j in range(1,c):\n",
        "    print(' ',end=' ')\n",
        "  for j in range(c,n+1):\n",
        "    print('*',end=' ')\n",
        "  c -= 1\n",
        "  print()"
      ],
      "metadata": {
        "colab": {
          "base_uri": "https://localhost:8080/"
        },
        "id": "nlcxPzc-k7Xo",
        "outputId": "5013e172-880e-480f-f34a-040c660317f0"
      },
      "execution_count": null,
      "outputs": [
        {
          "output_type": "stream",
          "name": "stdout",
          "text": [
            "enter number:9\n",
            "                * \n",
            "              * * \n",
            "            * * * \n",
            "          * * * * \n",
            "        * * * * * \n",
            "      * * * * * * \n",
            "    * * * * * * * \n",
            "  * * * * * * * * \n",
            "* * * * * * * * * \n"
          ]
        }
      ]
    },
    {
      "cell_type": "code",
      "source": [
        "n = int(input(\"enter number:\"))\n",
        "r = n%2\n",
        "for i in range(0,n):\n",
        "  for j in range(1,r):#1,i+1\n",
        "    print(' ',end=' ')\n",
        "  for j in range(0,n):\n",
        "    print('*',end=' ')\n",
        "  for j in range(1,r):\n",
        "    print(' ',end=' ')\n",
        "  r += 1\n",
        "  print()\n"
      ],
      "metadata": {
        "colab": {
          "base_uri": "https://localhost:8080/"
        },
        "id": "d0QJTItDk77w",
        "outputId": "8c49772b-615e-4444-9d1a-9309bf61f3aa"
      },
      "execution_count": null,
      "outputs": [
        {
          "output_type": "stream",
          "name": "stdout",
          "text": [
            "enter number:4\n",
            "* * * * \n",
            "* * * * \n",
            "  * * * *   \n",
            "    * * * *     \n"
          ]
        }
      ]
    },
    {
      "cell_type": "code",
      "source": [
        "4n = int(input(\"enter number:\"))\n",
        "r = n%2\n",
        "c = n\n",
        "for i in range(0,n,2):\n",
        "  for j in range(1,r):\n",
        "    print(' ',end=' ')\n",
        "  for j in range(0,c):\n",
        "    print('*',end=' ')\n",
        "  for j in range(1,r):\n",
        "    print(' ',end=' ')\n",
        "  r += 1\n",
        "  c -= 2\n",
        "  print()\n"
      ],
      "metadata": {
        "colab": {
          "base_uri": "https://localhost:8080/"
        },
        "id": "Dd9zndkIqQhj",
        "outputId": "8562ef2c-92e0-4913-be41-3712f8455fb4"
      },
      "execution_count": null,
      "outputs": [
        {
          "output_type": "stream",
          "name": "stdout",
          "text": [
            "enter number:9\n",
            "* * * * * * * * * \n",
            "  * * * * * * *   \n",
            "    * * * * *     \n",
            "      * * *       \n",
            "        *         \n"
          ]
        }
      ]
    },
    {
      "cell_type": "code",
      "source": [
        "n = int(input(\"enter number:\"))\n",
        "for i in range(1,n+1):\n",
        "  if i == (n//2)+1:\n",
        "    for j in range(0,n):\n",
        "      print('*',end=' ')\n",
        "  else:\n",
        "    for j in range(1,n+1):\n",
        "      if j == (n//2)+1:\n",
        "        print('*',end=\" \")\n",
        "      else:\n",
        "        print(' ',end=' ')\n",
        "  print()"
      ],
      "metadata": {
        "id": "_BmlqQJFk8gH",
        "colab": {
          "base_uri": "https://localhost:8080/"
        },
        "outputId": "b705d7f8-912d-43f8-98b5-03372a0f84da"
      },
      "execution_count": null,
      "outputs": [
        {
          "output_type": "stream",
          "name": "stdout",
          "text": [
            "enter number:5\n",
            "    *     \n",
            "    *     \n",
            "* * * * * \n",
            "    *     \n",
            "    *     \n"
          ]
        }
      ]
    },
    {
      "cell_type": "code",
      "source": [
        "n = int(input(\"enter a odd number:\"))\n",
        "for i in range(1,n+1):\n",
        "  for j in range(1,n+1):\n",
        "    if i == j or i+j == n+1:\n",
        "      print('*',end=' ')\n",
        "    else:\n",
        "      print(' ',end=' ')\n",
        "  print()"
      ],
      "metadata": {
        "id": "DJ4Y6tylk9C7",
        "colab": {
          "base_uri": "https://localhost:8080/"
        },
        "outputId": "4ec7d233-e497-4cdf-867d-9d7eb52421ec"
      },
      "execution_count": null,
      "outputs": [
        {
          "output_type": "stream",
          "name": "stdout",
          "text": [
            "enter a odd number:5\n",
            "*       * \n",
            "  *   *   \n",
            "    *     \n",
            "  *   *   \n",
            "*       * \n"
          ]
        }
      ]
    },
    {
      "cell_type": "code",
      "source": [
        "n = int(input(\"enter number:\"))\n",
        "for i in range(1,n+1):\n",
        "  for j in range(1,n-i+1):\n",
        "    print(\" \",end='')\n",
        "  for j in range(1,i+1):\n",
        "    print(j,end='')\n",
        "  print()\n"
      ],
      "metadata": {
        "colab": {
          "base_uri": "https://localhost:8080/"
        },
        "id": "I8rYDCNKfO4y",
        "outputId": "2c1e2e80-ab0a-4126-a745-d02c93bfc421"
      },
      "execution_count": null,
      "outputs": [
        {
          "output_type": "stream",
          "name": "stdout",
          "text": [
            "enter number:5\n",
            "    1\n",
            "   12\n",
            "  123\n",
            " 1234\n",
            "12345\n"
          ]
        }
      ]
    },
    {
      "cell_type": "code",
      "source": [
        "n = int(input(\"enter number:\"))\n",
        "for i in range(n):\n",
        "  for j in range(n-i+1): # spaces\n",
        "    print(' ',end='')\n",
        "  for j in range(2*i+1): # 2n+1 is odd and each row we have to print from 1 to till odd number\n",
        "    print(j+1,end='')\n",
        "  print()"
      ],
      "metadata": {
        "colab": {
          "base_uri": "https://localhost:8080/"
        },
        "id": "bEXR0aI7faHM",
        "outputId": "b92efc94-2afd-4604-a1fa-e8e406b0e8a5"
      },
      "execution_count": null,
      "outputs": [
        {
          "output_type": "stream",
          "name": "stdout",
          "text": [
            "enter number:7\n",
            "        1\n",
            "       123\n",
            "      12345\n",
            "     1234567\n",
            "    123456789\n",
            "   1234567891011\n",
            "  12345678910111213\n"
          ]
        }
      ]
    },
    {
      "cell_type": "code",
      "source": [
        "n =5\n",
        "for i in range(n,0,-1):\n",
        "  for j in range(n-i+1):\n",
        "    print(' ',end='')\n",
        "  for j in range(1,2*i):\n",
        "    print(j,end='')\n",
        "  print()"
      ],
      "metadata": {
        "colab": {
          "base_uri": "https://localhost:8080/"
        },
        "id": "DS1PUhMKkaW4",
        "outputId": "0bb8502f-f100-4dae-9e81-12734cb0c9c4"
      },
      "execution_count": null,
      "outputs": [
        {
          "output_type": "stream",
          "name": "stdout",
          "text": [
            " 123456789\n",
            "  1234567\n",
            "   12345\n",
            "    123\n",
            "     1\n"
          ]
        }
      ]
    },
    {
      "cell_type": "code",
      "source": [
        "chr(65),ord('A')"
      ],
      "metadata": {
        "id": "c09LZUhpn_XZ",
        "colab": {
          "base_uri": "https://localhost:8080/"
        },
        "outputId": "7789c16e-c8cf-4fd4-f4c4-81b7c6cd0a1d"
      },
      "execution_count": null,
      "outputs": [
        {
          "output_type": "execute_result",
          "data": {
            "text/plain": [
              "('A', 65)"
            ]
          },
          "metadata": {},
          "execution_count": 5
        }
      ]
    },
    {
      "cell_type": "code",
      "source": [
        "from pdb import set_trace as bp\n",
        "iput = input(\"enter character between A to Z:\")\n",
        "diff = ord(iput) - ord('A')\n",
        "for i in range(ord('A'),ord(iput)+1):\n",
        "  for j in range(0,diff):\n",
        "    print('',end=' ')\n",
        "  print(chr(i),end='')\n",
        "  if (i - 65 >= 1):\n",
        "    for j in range(i-65):\n",
        "      print(\" \",end=' ')\n",
        "    print(chr(i),end='')\n",
        "  print()\n",
        "  diff -= 1"
      ],
      "metadata": {
        "colab": {
          "base_uri": "https://localhost:8080/"
        },
        "id": "Q-F7Nc6XznpC",
        "outputId": "929ff2ec-ec4d-4341-84e9-7acbde43ead1"
      },
      "execution_count": null,
      "outputs": [
        {
          "output_type": "stream",
          "name": "stdout",
          "text": [
            "enter character between A to Z:D\n",
            "   A\n",
            "  B  B\n",
            " C    C\n",
            "D      D\n"
          ]
        }
      ]
    }
  ]
}