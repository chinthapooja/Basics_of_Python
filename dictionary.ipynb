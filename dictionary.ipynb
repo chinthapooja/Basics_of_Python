{
  "nbformat": 4,
  "nbformat_minor": 0,
  "metadata": {
    "colab": {
      "provenance": [],
      "authorship_tag": "ABX9TyO9o90KzLPN6MIzoUF826mQ",
      "include_colab_link": true
    },
    "kernelspec": {
      "name": "python3",
      "display_name": "Python 3"
    },
    "language_info": {
      "name": "python"
    }
  },
  "cells": [
    {
      "cell_type": "markdown",
      "metadata": {
        "id": "view-in-github",
        "colab_type": "text"
      },
      "source": [
        "<a href=\"https://colab.research.google.com/github/chinthapooja/Basics_of_Python/blob/main/dictionary.ipynb\" target=\"_parent\"><img src=\"https://colab.research.google.com/assets/colab-badge.svg\" alt=\"Open In Colab\"/></a>"
      ]
    },
    {
      "cell_type": "markdown",
      "source": [
        "* Dictionary is a collection of keys and values.\n",
        "* key:value\n",
        "* value in dictionary can be of any type and can be duplicated also but keys are not duplicated.\n",
        "* keys of dictionary are case sensitive i.e. number and Number are different.\n"
      ],
      "metadata": {
        "id": "TzI4QvOilsvp"
      }
    },
    {
      "cell_type": "code",
      "source": [
        "dct = {'a':1,'b':2,'c':3}\n",
        "print(dct)"
      ],
      "metadata": {
        "colab": {
          "base_uri": "https://localhost:8080/"
        },
        "id": "suMZUybTlrWZ",
        "outputId": "89e9d923-ebeb-4e5b-dd0f-9a90ac8ddbb2"
      },
      "execution_count": null,
      "outputs": [
        {
          "output_type": "stream",
          "name": "stdout",
          "text": [
            "{'a': 1, 'b': 2, 'c': 3}\n"
          ]
        }
      ]
    },
    {
      "cell_type": "code",
      "source": [
        "empty_dct = {}\n",
        "print(\"empty dict\",empty_dct)"
      ],
      "metadata": {
        "colab": {
          "base_uri": "https://localhost:8080/"
        },
        "id": "0KNS5KpHy2dn",
        "outputId": "f63acaf0-e76e-43b0-ed6c-44022e9d5a78"
      },
      "execution_count": null,
      "outputs": [
        {
          "output_type": "stream",
          "name": "stdout",
          "text": [
            "empty dict {}\n"
          ]
        }
      ]
    },
    {
      "cell_type": "code",
      "source": [
        "# creating dictionary with each item as a pair using dict()\n",
        "ex_dct = dict([('d',4),('e',5)])\n",
        "print(\"example dict\",ex_dct)\n",
        "# time complexities for creating dict is O(len(dict))\n",
        "# space complexities is O(N)"
      ],
      "metadata": {
        "colab": {
          "base_uri": "https://localhost:8080/"
        },
        "id": "VyLLjvMXy5L6",
        "outputId": "fd9e4b91-7995-492c-c6f0-5070f2077a83"
      },
      "execution_count": null,
      "outputs": [
        {
          "output_type": "stream",
          "name": "stdout",
          "text": [
            "example dict {'d': 4, 'e': 5}\n"
          ]
        }
      ]
    },
    {
      "cell_type": "code",
      "source": [
        "# nested dict\n",
        "nested_dct = {'a':1,'b':2,'c':{'d': 4, 'e': 5}}\n",
        "print(nested_dct)"
      ],
      "metadata": {
        "colab": {
          "base_uri": "https://localhost:8080/"
        },
        "id": "PaIrQIUfy8v6",
        "outputId": "32b78218-588e-4d17-c77c-63f8fc42d388"
      },
      "execution_count": null,
      "outputs": [
        {
          "output_type": "stream",
          "name": "stdout",
          "text": [
            "{'a': 1, 'b': 2, 'c': {'d': 4, 'e': 5}}\n"
          ]
        }
      ]
    },
    {
      "cell_type": "code",
      "source": [
        "#add elements to dict\n",
        "dct['d']=4\n",
        "print(\"after adding one element to dct\",dct)\n",
        "# while adding using this way if key and value is already existed then it update the previous key value by new value\n",
        "# adding elements time complexity O(N) or O(1)\n"
      ],
      "metadata": {
        "colab": {
          "base_uri": "https://localhost:8080/"
        },
        "id": "P0dNTHaKy-C0",
        "outputId": "42cdb68a-b057-4f4f-877d-11f1e78df392"
      },
      "execution_count": null,
      "outputs": [
        {
          "output_type": "stream",
          "name": "stdout",
          "text": [
            "after adding one element to dct {'a': 1, 'b': 2, 'c': 3, 'd': 4}\n"
          ]
        }
      ]
    },
    {
      "cell_type": "code",
      "source": [
        "# access the elements of dict\n",
        "# by key of dict in square brackets\n",
        "print(dct['a'])\n",
        "# there is other method to access dict by using get() method\n",
        "dct.get(\"al\")\n",
        "#time complexity for accessing dict by using get method is O(1)"
      ],
      "metadata": {
        "colab": {
          "base_uri": "https://localhost:8080/"
        },
        "id": "SWlRhOJuy-J8",
        "outputId": "2c90831a-de22-48b6-a896-60f9db32bb4d"
      },
      "execution_count": null,
      "outputs": [
        {
          "output_type": "stream",
          "name": "stdout",
          "text": [
            "1\n"
          ]
        }
      ]
    },
    {
      "cell_type": "code",
      "source": [
        "# accessing nexted elements of dict\n",
        "print(nested_dct['c'])\n",
        "print(nested_dct['c']['e'])"
      ],
      "metadata": {
        "colab": {
          "base_uri": "https://localhost:8080/"
        },
        "id": "txPqhnPRzHQL",
        "outputId": "3fb2277a-5f88-4753-f31d-5bf680c62644"
      },
      "execution_count": null,
      "outputs": [
        {
          "output_type": "stream",
          "name": "stdout",
          "text": [
            "{'d': 4, 'e': 5}\n",
            "5\n"
          ]
        }
      ]
    },
    {
      "cell_type": "code",
      "source": [
        "#dict methods\n",
        "new_dct = {'a':1,'b':2,'c':3}"
      ],
      "metadata": {
        "id": "9B350vEVrLTc"
      },
      "execution_count": null,
      "outputs": []
    },
    {
      "cell_type": "code",
      "source": [
        "#clear() it removes all the elements from the dict\n",
        "print(new_dct.clear(),new_dct)"
      ],
      "metadata": {
        "colab": {
          "base_uri": "https://localhost:8080/"
        },
        "id": "eQW0kFa0zPF4",
        "outputId": "27ad5c09-b2be-4e88-98f9-2edfc016b3f0"
      },
      "execution_count": null,
      "outputs": [
        {
          "output_type": "stream",
          "name": "stdout",
          "text": [
            "None {}\n"
          ]
        }
      ]
    },
    {
      "cell_type": "code",
      "source": [
        "#copy() it create the copy of dict\n",
        "new_dct = {'a':1,'b':2,'c':3}\n",
        "new_dct_copy = new_dct.copy()\n",
        "print(\"copy():\")\n",
        "print(id(new_dct_copy),id(new_dct))\n",
        "print(new_dct.copy(),new_dct_copy,\"\\n\")\n"
      ],
      "metadata": {
        "colab": {
          "base_uri": "https://localhost:8080/"
        },
        "id": "Iz95ygmYzW12",
        "outputId": "b156061a-003d-471e-8d8c-e9250eb3e6aa"
      },
      "execution_count": null,
      "outputs": [
        {
          "output_type": "stream",
          "name": "stdout",
          "text": [
            "copy():\n",
            "135394136054336 135394362515584\n",
            "{'a': 1, 'b': 2, 'c': 3} {'a': 1, 'b': 2, 'c': 3} \n",
            "\n"
          ]
        }
      ]
    },
    {
      "cell_type": "code",
      "source": [
        "#keys()\n",
        "print(new_dct.keys(),*new_dct.keys())"
      ],
      "metadata": {
        "colab": {
          "base_uri": "https://localhost:8080/"
        },
        "id": "_SH-8raazW32",
        "outputId": "61791672-91e7-4f71-f05e-f9ed48fdc2a6"
      },
      "execution_count": null,
      "outputs": [
        {
          "output_type": "stream",
          "name": "stdout",
          "text": [
            "dict_keys(['a', 'b', 'c']) a b c\n"
          ]
        }
      ]
    },
    {
      "cell_type": "code",
      "source": [
        "#values()\n",
        "print(new_dct.values())"
      ],
      "metadata": {
        "colab": {
          "base_uri": "https://localhost:8080/"
        },
        "id": "fAMwWagAzW7U",
        "outputId": "41953fdc-9b53-46a8-c69c-dabd9cf053c5"
      },
      "execution_count": null,
      "outputs": [
        {
          "output_type": "stream",
          "name": "stdout",
          "text": [
            "dict_values([1, 2, 3])\n"
          ]
        }
      ]
    },
    {
      "cell_type": "code",
      "source": [
        "#items() +returns the list of tuples with having keys and values\n",
        "print(new_dct.items())"
      ],
      "metadata": {
        "colab": {
          "base_uri": "https://localhost:8080/"
        },
        "id": "6VThZg-Bzjhq",
        "outputId": "2ff820c3-f6fc-4c79-a80e-3b1b76d60fee"
      },
      "execution_count": null,
      "outputs": [
        {
          "output_type": "stream",
          "name": "stdout",
          "text": [
            "dict_items([('a', 1), ('b', 2), ('c', 3)])\n"
          ]
        }
      ]
    },
    {
      "cell_type": "code",
      "source": [
        "#pop()\n",
        "var = new_dct.pop('a')\n",
        "print(var,new_dct)\n",
        "#var = new_dct.pop() # gets error as pop requires one argument"
      ],
      "metadata": {
        "colab": {
          "base_uri": "https://localhost:8080/"
        },
        "id": "7CdVd_F6zQIL",
        "outputId": "651dc16c-d090-45c4-f917-a123d74336e8"
      },
      "execution_count": null,
      "outputs": [
        {
          "output_type": "stream",
          "name": "stdout",
          "text": [
            "1 {'b': 2, 'c': 3}\n"
          ]
        }
      ]
    },
    {
      "cell_type": "code",
      "source": [
        "#popitem() pop the last inserted item in dict\n",
        "var = new_dct.popitem()\n",
        "print(var,new_dct)"
      ],
      "metadata": {
        "colab": {
          "base_uri": "https://localhost:8080/"
        },
        "id": "GaoacJJ0zQKn",
        "outputId": "18c25d91-c098-41bc-c558-029739833402"
      },
      "execution_count": null,
      "outputs": [
        {
          "output_type": "stream",
          "name": "stdout",
          "text": [
            "('c', 3) {'b': 2}\n"
          ]
        }
      ]
    },
    {
      "cell_type": "code",
      "source": [
        "#update()\n",
        "print(new_dct)\n",
        "new_dct.update([('z',26)])\n",
        "print(new_dct)\n",
        "print(new_dct.update([('y',25),('x',24)]))\n",
        "new_dct.update([('y',25),('x',24)])\n",
        "print(new_dct)"
      ],
      "metadata": {
        "colab": {
          "base_uri": "https://localhost:8080/"
        },
        "id": "k8U9baohzQON",
        "outputId": "c3ac563f-f911-4bce-9fb1-e4ca28406271"
      },
      "execution_count": null,
      "outputs": [
        {
          "output_type": "stream",
          "name": "stdout",
          "text": [
            "{'b': 2}\n",
            "{'b': 2, 'z': 26}\n",
            "None\n",
            "{'b': 2, 'z': 26, 'y': 25, 'x': 24}\n"
          ]
        }
      ]
    },
    {
      "cell_type": "code",
      "source": [
        "#str() returns the string\n",
        "new_dct = {1:'a',2:'b',3:'c','ab':12}\n",
        "print(str(new_dct))\n",
        "print(new_dct)"
      ],
      "metadata": {
        "colab": {
          "base_uri": "https://localhost:8080/"
        },
        "id": "HA96GDzL2mvM",
        "outputId": "23c91d62-c61b-4f75-ced5-e297942b4b3d"
      },
      "execution_count": null,
      "outputs": [
        {
          "output_type": "stream",
          "name": "stdout",
          "text": [
            "{1: 'a', 2: 'b', 3: 'c', 'ab': 12}\n",
            "{1: 'a', 2: 'b', 3: 'c', 'ab': 12}\n"
          ]
        }
      ]
    },
    {
      "cell_type": "code",
      "source": [
        "#len()\n",
        "print(len(new_dct))"
      ],
      "metadata": {
        "colab": {
          "base_uri": "https://localhost:8080/"
        },
        "id": "aUskf8br1qKh",
        "outputId": "cc677708-7b15-4075-b1c2-b35b9bf47735"
      },
      "execution_count": null,
      "outputs": [
        {
          "output_type": "stream",
          "name": "stdout",
          "text": [
            "4\n"
          ]
        }
      ]
    },
    {
      "cell_type": "code",
      "source": [
        "#type()\n",
        "print(type(new_dct))\n",
        "print(type(new_dct[2]))"
      ],
      "metadata": {
        "colab": {
          "base_uri": "https://localhost:8080/"
        },
        "id": "NllL5JscIw7J",
        "outputId": "9dd5a6dd-42f0-478c-9c95-68f1a524d0df"
      },
      "execution_count": null,
      "outputs": [
        {
          "output_type": "stream",
          "name": "stdout",
          "text": [
            "<class 'dict'>\n",
            "<class 'str'>\n"
          ]
        }
      ]
    },
    {
      "cell_type": "code",
      "source": [
        "#fromkeys(seq,value) will create a dict with keys from seqence and have same value for each key\n",
        "seq = ('name','age','id')\n",
        "print(dict.fromkeys(seq,5))\n",
        "print(dict.fromkeys(seq,[1,2,3]))"
      ],
      "metadata": {
        "colab": {
          "base_uri": "https://localhost:8080/"
        },
        "id": "jtYMiYSm1XIh",
        "outputId": "4414b134-2773-47f9-ce7c-661b0b8f6473"
      },
      "execution_count": null,
      "outputs": [
        {
          "output_type": "stream",
          "name": "stdout",
          "text": [
            "{'name': 5, 'age': 5, 'id': 5}\n",
            "{'name': [1, 2, 3], 'age': [1, 2, 3], 'id': [1, 2, 3]}\n"
          ]
        }
      ]
    },
    {
      "cell_type": "code",
      "source": [
        "\n",
        "#by using we can add new key if doesnot exist then adds value to it also\n",
        "#print(new_dct.has_key('ab'))\n",
        "print(new_dct)\n",
        "print(new_dct.get('abc','not present'))\n",
        "print(new_dct)"
      ],
      "metadata": {
        "colab": {
          "base_uri": "https://localhost:8080/"
        },
        "id": "tJ0S0dHM1XKr",
        "outputId": "1e6bdce0-a809-4db2-8746-4206fd9831f7"
      },
      "execution_count": null,
      "outputs": [
        {
          "output_type": "stream",
          "name": "stdout",
          "text": [
            "{1: 'a', 2: 'b', 3: 'c', 'ab': 12}\n",
            "not present\n",
            "{1: 'a', 2: 'b', 3: 'c', 'ab': 12}\n"
          ]
        }
      ]
    },
    {
      "cell_type": "code",
      "source": [
        "#same like get()\n",
        "#print(new_dct.setdefault(\"id\"))\n",
        "print(new_dct.setdefault(\"id\",1234))\n",
        "print(new_dct)"
      ],
      "metadata": {
        "colab": {
          "base_uri": "https://localhost:8080/"
        },
        "id": "EG6-cJVT1XOH",
        "outputId": "1df12bf1-45b2-425e-d80d-d342d7b1da68"
      },
      "execution_count": null,
      "outputs": [
        {
          "output_type": "stream",
          "name": "stdout",
          "text": [
            "1234\n",
            "{1: 'a', 2: 'b', 3: 'c', 'ab': 12, 'id': 1234}\n"
          ]
        }
      ]
    },
    {
      "cell_type": "code",
      "source": [
        "# find the common elements in three sorted arrays\n",
        "#arr1 = [1, 5, 10, 20, 40, 80]\n",
        "#arr2 = [6, 7, 20, 80, 100]\n",
        "#arr3 = [3, 4, 15, 20, 30, 70, 80, 120]\n",
        "\n",
        "arr1 = [1, 5, 5]\n",
        "arr2 = [3, 4, 5, 5, 10]\n",
        "arr3 = [5, 5, 10, 20]\n",
        "\n",
        "def common_ele(arr,A,B):\n",
        "  lst = []\n",
        "  for i in arr:\n",
        "    if i in A and i in B:\n",
        "      lst.append(i)\n",
        "  return lst\n",
        "\n",
        "\n",
        "if len(arr1) < len(arr2) and len(arr1) < len(arr3):\n",
        "  #length = len(arr1)\n",
        "  print(common_ele(arr1,arr2,arr3))\n",
        "elif len(arr2) < len(arr1) and len(arr2) < len(arr3):\n",
        "  #length = len(arr2)\n",
        "  print(common_ele(arr2,arr1,arr3))\n",
        "else:\n",
        "  #length = len(arr3)\n",
        "  print(common_ele(arr3,arr1,arr2))"
      ],
      "metadata": {
        "colab": {
          "base_uri": "https://localhost:8080/"
        },
        "id": "JcY-omD2IxJ8",
        "outputId": "c32a7ea6-2e4f-4b41-ceec-22d306f638bb"
      },
      "execution_count": null,
      "outputs": [
        {
          "output_type": "stream",
          "name": "stdout",
          "text": [
            "[5, 5]\n"
          ]
        }
      ]
    },
    {
      "cell_type": "code",
      "source": [
        "#method 1 # Switch case implementation in python using dict mapping\n",
        "def switch_case(letter):\n",
        "  dct = {\"a\":'A',\"b\":'B',\"c\":'C'}\n",
        "  return dct.get(letter,\"letter is not present\")\n",
        "letter = input(\"give letter:\")\n",
        "print(switch_case(letter))\n",
        "\n",
        "\n",
        "#method 2 # using if-else\n",
        "name = input(\"enter:\")\n",
        "if name == 'aaaa':\n",
        "  print('name is ', name)\n",
        "elif name == 'bbbb':\n",
        "  print('name is ', name)\n",
        "elif name == 'cccc':\n",
        "  print('name is ', name)\n",
        "else:\n",
        "  print('name is not present')\n",
        "\n",
        "\n",
        "\n"
      ],
      "metadata": {
        "colab": {
          "base_uri": "https://localhost:8080/"
        },
        "id": "Xi1nroo8IxU_",
        "outputId": "5c39fdc3-5859-4f3f-8922-f7288923a205"
      },
      "execution_count": null,
      "outputs": [
        {
          "output_type": "stream",
          "name": "stdout",
          "text": [
            "give letter:cccc\n",
            "letter is not present\n",
            "enter:uu\n",
            "name is not present\n"
          ]
        }
      ]
    },
    {
      "cell_type": "code",
      "source": [
        "# method 3 # using class\n",
        "#getatrr(object,attribute,default)\n",
        "#if the attribute is not present then it gives default\n",
        "# below class shows how getattr works\n",
        "class Person:\n",
        "  Name = 'pooja'\n",
        "  Place = 'HYD'\n",
        "print(getattr(Person,'Name','chintha'))\n",
        "print(getattr(Person,'surname','chintha'))\n",
        "\n",
        "class Switch_case:\n",
        "  def stng(self,letter):\n",
        "    return getattr(self,'case_'+str(letter),lambda:\"incorrect letter\")()\n",
        "  def case_a(self):\n",
        "    return \"A\"\n",
        "  def case_b(self):\n",
        "    return \"B\"\n",
        "  def case_c(self):\n",
        "    return \"C\"\n",
        "\n",
        "sc = Switch_case()\n",
        "letter = input(\"enter:\")\n",
        "sc.stng(letter)\n",
        "\n",
        "\n"
      ],
      "metadata": {
        "colab": {
          "base_uri": "https://localhost:8080/",
          "height": 88
        },
        "id": "-D7evc4SodPS",
        "outputId": "45fd2cb6-4cb4-4a93-f3da-de38c9132386"
      },
      "execution_count": null,
      "outputs": [
        {
          "name": "stdout",
          "output_type": "stream",
          "text": [
            "pooja\n",
            "chintha\n",
            "enter:p\n"
          ]
        },
        {
          "output_type": "execute_result",
          "data": {
            "text/plain": [
              "'incorrect letter'"
            ],
            "application/vnd.google.colaboratory.intrinsic+json": {
              "type": "string"
            }
          },
          "metadata": {},
          "execution_count": 25
        }
      ]
    },
    {
      "cell_type": "code",
      "source": [
        "# possible words using given characters in python\n",
        "srn = [\"go\",\"bat\",\"me\",\"eat\",\"goal\",\"boy\", \"run\"]\n",
        "arr = ['e','o','b', 'a','m','g', 'l']\n",
        "\n",
        "for i in srn:\n",
        "  length_i = len(i)\n",
        "  count = 0\n",
        "  for j in i:\n",
        "    if j in arr:\n",
        "      count += 1\n",
        "      if count == length_i:\n",
        "        print(i)"
      ],
      "metadata": {
        "colab": {
          "base_uri": "https://localhost:8080/"
        },
        "id": "qvnc9sSLodWw",
        "outputId": "8d4e2c40-6445-4a2c-e25c-cd646043c882"
      },
      "execution_count": null,
      "outputs": [
        {
          "output_type": "stream",
          "name": "stdout",
          "text": [
            "go\n",
            "me\n",
            "goal\n"
          ]
        }
      ]
    },
    {
      "cell_type": "code",
      "source": [
        "# keys associated with values in dictionary\n",
        "dct = {'abc' : [10, 30,50], 'bcd' : [30, 40, 10]}\n",
        "new_dct = {}\n",
        "#print(*dct.values())\n",
        "count = 0\n",
        "\n",
        "for i in dct.items():\n",
        "  for j in i[1]:\n",
        "    if j in new_dct.keys():\n",
        "      new_dct[j].append(i[0])\n",
        "    else:\n",
        "      new_dct.update([(j,[i[0]])])\n",
        "print(new_dct)"
      ],
      "metadata": {
        "colab": {
          "base_uri": "https://localhost:8080/"
        },
        "id": "3CFBTVUTodaJ",
        "outputId": "b1009c6d-7311-463b-bfa0-3771ffe3142e"
      },
      "execution_count": null,
      "outputs": [
        {
          "output_type": "stream",
          "name": "stdout",
          "text": [
            "{10: ['abc', 'bcd'], 30: ['abc', 'bcd'], 50: ['abc'], 40: ['bcd']}\n"
          ]
        }
      ]
    },
    {
      "cell_type": "code",
      "source": [
        "# dict to find mirror characters in a string\n",
        "dct = {\n",
        "    'a':[1,26],\n",
        "    'b':[2,25],\n",
        "    'c':[3,24],\n",
        "    'd':[4,23],\n",
        "    'e':[5,22],\n",
        "    'f':[6,21],\n",
        "    'g':[7,20],\n",
        "    'h':[8,19],\n",
        "    'i':[9,18],\n",
        "    'j':[10,17],\n",
        "    'k':[11,16],\n",
        "    'l':[12,15],\n",
        "    'm':[13,14],\n",
        "    'n':[14,13],\n",
        "    'o':[15,12],\n",
        "    'p':[16,11],\n",
        "    'q':[17,10],\n",
        "    'r':[18,9],\n",
        "    's':[19,8],\n",
        "    't':[20,7],\n",
        "    'u':[21,6],\n",
        "    'v':[22,5],\n",
        "    'w':[23,4],\n",
        "    'x':[24,3],\n",
        "    'y':[25,2],\n",
        "    'z':[26,1]\n",
        "}"
      ],
      "metadata": {
        "id": "wIGc8l6hmIlV"
      },
      "execution_count": null,
      "outputs": []
    },
    {
      "cell_type": "code",
      "source": [
        "from pdb import set_trace as bp\n",
        "number = int(input(\"enter a number from where to start in a string:\"))\n",
        "strng = input(\"enter string:\")\n",
        "val_lst = list(dct.values())\n",
        "key_lst = list(dct.keys())\n",
        "print(key_lst,'\\n',dct.keys())\n",
        "for i,s in enumerate(strng):\n",
        "  if i >= number-1:\n",
        "    n = dct[s][1]\n",
        "    s=key_lst[n-1]\n",
        "    print(s,end=\"\")\n",
        "  else:\n",
        "    print(s,end=\"\")"
      ],
      "metadata": {
        "colab": {
          "base_uri": "https://localhost:8080/"
        },
        "id": "LngsaXgemIoA",
        "outputId": "f1516b82-3168-4795-c32e-14cfd43f2338"
      },
      "execution_count": null,
      "outputs": [
        {
          "output_type": "stream",
          "name": "stdout",
          "text": [
            "enter a number from where to start in a string:4\n",
            "enter string:letters\n",
            "['a', 'b', 'c', 'd', 'e', 'f', 'g', 'h', 'i', 'j', 'k', 'l', 'm', 'n', 'o', 'p', 'q', 'r', 's', 't', 'u', 'v', 'w', 'x', 'y', 'z'] \n",
            " dict_keys(['a', 'b', 'c', 'd', 'e', 'f', 'g', 'h', 'i', 'j', 'k', 'l', 'm', 'n', 'o', 'p', 'q', 'r', 's', 't', 'u', 'v', 'w', 'x', 'y', 'z'])\n",
            "letgvih"
          ]
        }
      ]
    },
    {
      "cell_type": "code",
      "source": [
        "dct = {}\n",
        "for i in range(0,26):\n",
        "  dct[chr(ord('A')+i)] = i+1\n",
        "dct"
      ],
      "metadata": {
        "id": "npQTMavazkAb",
        "colab": {
          "base_uri": "https://localhost:8080/"
        },
        "outputId": "57ecae96-9f60-4991-ad5e-95ba3388243d"
      },
      "execution_count": null,
      "outputs": [
        {
          "output_type": "execute_result",
          "data": {
            "text/plain": [
              "{'A': 1,\n",
              " 'B': 2,\n",
              " 'C': 3,\n",
              " 'D': 4,\n",
              " 'E': 5,\n",
              " 'F': 6,\n",
              " 'G': 7,\n",
              " 'H': 8,\n",
              " 'I': 9,\n",
              " 'J': 10,\n",
              " 'K': 11,\n",
              " 'L': 12,\n",
              " 'M': 13,\n",
              " 'N': 14,\n",
              " 'O': 15,\n",
              " 'P': 16,\n",
              " 'Q': 17,\n",
              " 'R': 18,\n",
              " 'S': 19,\n",
              " 'T': 20,\n",
              " 'U': 21,\n",
              " 'V': 22,\n",
              " 'W': 23,\n",
              " 'X': 24,\n",
              " 'Y': 25,\n",
              " 'Z': 26}"
            ]
          },
          "metadata": {},
          "execution_count": 30
        }
      ]
    }
  ]
}