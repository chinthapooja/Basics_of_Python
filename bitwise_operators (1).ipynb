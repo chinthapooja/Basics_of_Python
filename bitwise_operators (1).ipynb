{
  "nbformat": 4,
  "nbformat_minor": 0,
  "metadata": {
    "colab": {
      "provenance": [],
      "collapsed_sections": [
        "3PHzktmQu5ah",
        "yDr27wobcPq5"
      ]
    },
    "kernelspec": {
      "name": "python3",
      "display_name": "Python 3"
    },
    "language_info": {
      "name": "python"
    }
  },
  "cells": [
    {
      "cell_type": "markdown",
      "source": [
        "# Basics"
      ],
      "metadata": {
        "id": "3PHzktmQu5ah"
      }
    },
    {
      "cell_type": "markdown",
      "source": [
        "**Check if an integer is even or odd**\n",
        "\n",
        "\n",
        "> n=6\n",
        "\n",
        "> 110 & 01 == 0\n",
        "\n"
      ],
      "metadata": {
        "id": "Dy5CRh6TfMHD"
      }
    },
    {
      "cell_type": "code",
      "execution_count": null,
      "metadata": {
        "id": "LgwcBRc4NMJz",
        "colab": {
          "base_uri": "https://localhost:8080/"
        },
        "outputId": "32230690-3994-45ca-aa7d-40d8f5d00675"
      },
      "outputs": [
        {
          "output_type": "stream",
          "name": "stdout",
          "text": [
            "enter integer: 99\n",
            "ODD\n"
          ]
        }
      ],
      "source": [
        "n = int(input(\"enter integer: \"))\n",
        "if n & 1 == 0:\n",
        "  print(\"EVEN\")\n",
        "else:\n",
        "  print('ODD')"
      ]
    },
    {
      "cell_type": "markdown",
      "source": [
        "**Detect if two integers have opposite signs or not**\n",
        "\n",
        "\n",
        "> The binary representations of the numbers 1 to 10 and -1 to -10:\n",
        "\n",
        "1: 0001\n",
        "2: 0010\n",
        "3: 0011\n",
        "4: 0100\n",
        "5: 0101\n",
        "6: 0110\n",
        "7: 0111\n",
        "8: 1000\n",
        "9: 1001\n",
        "10: 1010\n",
        "\n",
        "-1: 1111\n",
        "-2: 1110\n",
        "-3: 1101\n",
        "-4: 1100\n",
        "-5: 1011\n",
        "-6: 1010\n",
        "-7: 1001\n",
        "-8: 1000\n",
        "-9: 0111\n",
        "-10: 0110\n",
        "> To postive number filp the bits and add 1\n",
        "> In binary representation, positive numbers have a leading 0, while negative numbers have a leading 1.\n",
        "\n",
        "\n",
        "> n1=4 and n2=-2\n",
        "> 0100 ^\n",
        "> 1110\n",
        "> ----\n",
        "> 1010\n",
        "\n",
        "* x ^ y is negative if x and y have opposite signs\n",
        "* for postive number the leftmost bit is 0 and for negative number it is 1"
      ],
      "metadata": {
        "id": "d0YKFjQJhnj4"
      }
    },
    {
      "cell_type": "code",
      "source": [
        "x = int(input(\"enter integer: \"))\n",
        "y = int(input(\"enter integer: \"))\n",
        "if x^y < 0 :\n",
        "  print('opposite signs')\n",
        "else:\n",
        "  print('same signs')\n"
      ],
      "metadata": {
        "colab": {
          "base_uri": "https://localhost:8080/"
        },
        "id": "utrsk9PUhhpm",
        "outputId": "3a869e8e-b938-4f2b-d261-93f7a29a96b3"
      },
      "execution_count": null,
      "outputs": [
        {
          "output_type": "stream",
          "name": "stdout",
          "text": [
            "enter integer: 4\n",
            "enter integer: 12\n",
            "same signs\n"
          ]
        }
      ]
    },
    {
      "cell_type": "markdown",
      "source": [
        "**Add 1 to an integer**\n",
        "* n=8\n",
        "* 8+1=9\n",
        "* 7=111+01\n",
        "* -~n = n + 1"
      ],
      "metadata": {
        "id": "1-Rsyq3JmA4T"
      }
    },
    {
      "cell_type": "code",
      "source": [
        "# -~4\n",
        "n = int(input(\"enter interger: \"))\n",
        "-~n"
      ],
      "metadata": {
        "id": "8U0EjnmIlx8P",
        "colab": {
          "base_uri": "https://localhost:8080/"
        },
        "outputId": "247e42c7-e448-4aff-e405-9cde83bce7f6"
      },
      "execution_count": null,
      "outputs": [
        {
          "name": "stdout",
          "output_type": "stream",
          "text": [
            "enter interger: 6\n"
          ]
        },
        {
          "output_type": "execute_result",
          "data": {
            "text/plain": [
              "7"
            ]
          },
          "metadata": {},
          "execution_count": 4
        }
      ]
    },
    {
      "cell_type": "code",
      "source": [
        "-~(-5)"
      ],
      "metadata": {
        "colab": {
          "base_uri": "https://localhost:8080/"
        },
        "id": "4OjQuogxKrpA",
        "outputId": "56ff8415-4acd-45de-f260-d7bc16e66e97"
      },
      "execution_count": null,
      "outputs": [
        {
          "output_type": "execute_result",
          "data": {
            "text/plain": [
              "-4"
            ]
          },
          "metadata": {},
          "execution_count": 2
        }
      ]
    },
    {
      "cell_type": "code",
      "source": [
        "~4"
      ],
      "metadata": {
        "colab": {
          "base_uri": "https://localhost:8080/"
        },
        "id": "IjoZWszVKzCj",
        "outputId": "07e5546a-918f-46ef-fb23-ee155819d29d"
      },
      "execution_count": null,
      "outputs": [
        {
          "output_type": "execute_result",
          "data": {
            "text/plain": [
              "-5"
            ]
          },
          "metadata": {},
          "execution_count": 3
        }
      ]
    },
    {
      "cell_type": "markdown",
      "source": [
        "**Swap two numbers wihtout using any third variable**\n",
        "* the idea to use XOR operators to swap two numbers by their property `x ^ x = 0`"
      ],
      "metadata": {
        "id": "61TykHRcLMHn"
      }
    },
    {
      "cell_type": "code",
      "source": [
        "x = int(input(\"enter integer: \"))\n",
        "y = int(input(\"enter integer: \"))\n",
        "print(x,y)\n",
        "x = x ^ y\n",
        "y = x ^ y\n",
        "x = x ^ y\n",
        "print(x,y)"
      ],
      "metadata": {
        "colab": {
          "base_uri": "https://localhost:8080/"
        },
        "id": "OxHJ7eARK19e",
        "outputId": "7fe5e985-9d8f-4b07-8359-f7295b43a155"
      },
      "execution_count": null,
      "outputs": [
        {
          "output_type": "stream",
          "name": "stdout",
          "text": [
            "enter integer: 4\n",
            "enter integer: 5\n",
            "4 5\n",
            "5 4\n"
          ]
        }
      ]
    },
    {
      "cell_type": "markdown",
      "source": [
        "**Turn off k'th bit in a number**\n",
        "* i/p: 1101010**1**1101, k'th bit = k-1=5-1=4\n",
        "* o/p: 1101010**0**1101\n",
        "* 1 in binary 0000001\n",
        "* 1<<k\n",
        "* here k=4 so 1<<k is 010000\n",
        "* i/p ^ (1<<k)\n"
      ],
      "metadata": {
        "id": "10IDesrJMqIV"
      }
    },
    {
      "cell_type": "code",
      "source": [
        "n = int(input(\"enter integer: \"))\n",
        "k = int(input(\"enter k'th bit: \"))\n",
        "#print(n ^ (1 << (k-1)))\n",
        "print(n & ~( 1<< (k-1)))"
      ],
      "metadata": {
        "colab": {
          "base_uri": "https://localhost:8080/"
        },
        "id": "RcdxUra2LtT8",
        "outputId": "af2e50f9-f49c-4e59-98a4-cde094eb51ca"
      },
      "execution_count": null,
      "outputs": [
        {
          "output_type": "stream",
          "name": "stdout",
          "text": [
            "enter integer: 17\n",
            "enter k'th bit: 2\n",
            "19\n",
            "17\n"
          ]
        }
      ]
    },
    {
      "cell_type": "markdown",
      "source": [
        "**Turn on the k'th bit in a number**\n",
        "* i/p: 11101**0**100, k = 4-1\n",
        "* o/p: 11101**1**100\n",
        "* 1<<k\n",
        "*"
      ],
      "metadata": {
        "id": "HOFCUuzPO6_J"
      }
    },
    {
      "cell_type": "code",
      "source": [
        "n = int(input(\"enter integer: \"))\n",
        "k = int(input(\"enter k'th bit: \"))\n",
        "print(bin(n))\n",
        "print(bin(n)[-2])\n",
        "print(n | (1 << (k-1)))\n",
        "print(bin(n | (1 << (k-1))))\n"
      ],
      "metadata": {
        "colab": {
          "base_uri": "https://localhost:8080/"
        },
        "id": "DybaT_7aON9s",
        "outputId": "d113246b-2dde-4add-fc9f-5adea05d1b1c"
      },
      "execution_count": null,
      "outputs": [
        {
          "output_type": "stream",
          "name": "stdout",
          "text": [
            "enter integer: 20\n",
            "enter k'th bit: 2\n",
            "0b10100\n",
            "0\n",
            "22\n",
            "0b10110\n"
          ]
        }
      ]
    },
    {
      "cell_type": "markdown",
      "source": [
        "**Check if k'th bit is set for a number**\n"
      ],
      "metadata": {
        "id": "0zRk7D1lRfZv"
      }
    },
    {
      "cell_type": "code",
      "source": [
        "n = int(input(\"enter integer: \"))\n",
        "k = int(input(\"enter k'th bit: \"))\n",
        "print(bin(n))\n",
        "print(n & (1 << (k-1)))\n",
        "print(bin(n & (1 << (k-1))))\n",
        "if (n & (1 << (k-1))):\n",
        "  print(\"k'th bit is set\")\n",
        "else:\n",
        "  print(\"k'th bit is not set\")"
      ],
      "metadata": {
        "colab": {
          "base_uri": "https://localhost:8080/"
        },
        "id": "GkeGwhyYRFHo",
        "outputId": "5bc74e13-8dee-4e7b-ad5f-21bf8e0ce3f6"
      },
      "execution_count": null,
      "outputs": [
        {
          "output_type": "stream",
          "name": "stdout",
          "text": [
            "enter integer: 20\n",
            "enter k'th bit: 2\n",
            "0b10100\n",
            "0\n",
            "0b0\n",
            "k;th bit is not set\n"
          ]
        }
      ]
    },
    {
      "cell_type": "markdown",
      "source": [
        "**Toggle the k'th bit**\n"
      ],
      "metadata": {
        "id": "lxbp2KYVaBpW"
      }
    },
    {
      "cell_type": "code",
      "source": [
        "n = int(input(\"enter integer: \"))\n",
        "k = int(input(\"enter k'th bit: \"))\n",
        "print(bin(n))\n",
        "print(n ^ (1 << (k-1)))\n",
        "print(bin(n ^ (1 << (k-1))))\n"
      ],
      "metadata": {
        "colab": {
          "base_uri": "https://localhost:8080/"
        },
        "id": "17GUlHdcZcvN",
        "outputId": "2b6bb127-1e32-432f-d9e8-0c72cc166fea"
      },
      "execution_count": null,
      "outputs": [
        {
          "output_type": "stream",
          "name": "stdout",
          "text": [
            "enter integer: 20\n",
            "enter k'th bit: 2\n",
            "0b10100\n",
            "22\n",
            "0b10110\n"
          ]
        }
      ]
    },
    {
      "cell_type": "markdown",
      "source": [
        "**The k'th bit** `n`      `( 1 << (k-1))`\n",
        "* Toggle -  **^**\n",
        "* off - **&~**\n",
        "* on - **|**\n",
        "* set - **&**"
      ],
      "metadata": {
        "id": "YMqT-PYGaU69"
      }
    },
    {
      "cell_type": "markdown",
      "source": [
        "# Rightmost bit of number"
      ],
      "metadata": {
        "id": "yDr27wobcPq5"
      }
    },
    {
      "cell_type": "markdown",
      "source": [
        "**Unset the rightmost set bit of a number**\n",
        "* 0101011 = n\n",
        "* 1\n",
        "* n & ~1\n",
        "* seems to be similar to **off**ing the bit so for off **` &~`**"
      ],
      "metadata": {
        "id": "Iw11u48ycUui"
      }
    },
    {
      "cell_type": "code",
      "source": [
        "n = int(input(\"enter number:\"))\n",
        "print(bin(n))\n",
        "print(n & ~1)\n",
        "print(bin(n & ~1))"
      ],
      "metadata": {
        "colab": {
          "base_uri": "https://localhost:8080/"
        },
        "id": "CXDJpDcKaPkh",
        "outputId": "a13f3b0d-6883-4e56-e9ec-87afa85fa0b9"
      },
      "execution_count": null,
      "outputs": [
        {
          "output_type": "stream",
          "name": "stdout",
          "text": [
            "enter number:7\n",
            "0b111\n",
            "6\n",
            "0b110\n"
          ]
        }
      ]
    },
    {
      "cell_type": "markdown",
      "source": [
        "`n & (n-1)` will turn off the rightmost set bit of number **n**\n",
        "* the **n-1** number will have the all bits fliped after the rightmost bit of number **n**\n",
        "* n = 6 = 110\n",
        "* n-1 = 6-1 = 5 = 101\n",
        ""
      ],
      "metadata": {
        "id": "7yhDbspWd7nC"
      }
    },
    {
      "cell_type": "code",
      "source": [
        "n = int(input(\"enter number:\"))\n",
        "print(bin(n))\n",
        "print(n & (n-1))\n",
        "print(bin(n & (n-1)))"
      ],
      "metadata": {
        "colab": {
          "base_uri": "https://localhost:8080/"
        },
        "id": "TszomweSc9E9",
        "outputId": "0313675b-8504-4832-b412-d208e44def4c"
      },
      "execution_count": null,
      "outputs": [
        {
          "output_type": "stream",
          "name": "stdout",
          "text": [
            "enter number:6\n",
            "0b110\n",
            "4\n",
            "0b100\n"
          ]
        }
      ]
    },
    {
      "cell_type": "markdown",
      "source": [
        "**Check if a postive integer is a power of 2**\n",
        "* n & (n-1)\n",
        "* n = 16 = 10000\n",
        "* n-1 = 16-1 = 15 = 01111\n",
        "* n & (n-1) = 10000 & 01111 = 0\n",
        "* if n = 15=1111\n",
        "* n-1=14 = 1110\n",
        "* n & (n-1) = 1111 & 1110 != 0"
      ],
      "metadata": {
        "id": "xy7UKp4TfJ-Y"
      }
    },
    {
      "cell_type": "code",
      "source": [
        "n = int(input(\"enter number:\"))\n",
        "if n & (n-1) == 0:\n",
        "  print(\"power\")\n",
        "else:\n",
        "  print(\"no\")"
      ],
      "metadata": {
        "colab": {
          "base_uri": "https://localhost:8080/"
        },
        "id": "XvLHNadLeVF4",
        "outputId": "97faaadf-9dc5-490d-b682-17e80ce0ce07"
      },
      "execution_count": null,
      "outputs": [
        {
          "output_type": "stream",
          "name": "stdout",
          "text": [
            "enter number:16\n",
            "power\n"
          ]
        }
      ]
    },
    {
      "cell_type": "markdown",
      "source": [
        "**Find position of the rightmost set bit**"
      ],
      "metadata": {
        "id": "mxB1JV9Gf_xB"
      }
    },
    {
      "cell_type": "code",
      "source": [
        "n = int(input(\"enter number:\"))\n",
        "new_n = n ^ (n & (n-1)) # new_n = n & -n\n",
        "position = 0\n",
        "while(new_n):\n",
        "  position += 1\n",
        "  new_n >>= 1\n",
        "print(position)\n"
      ],
      "metadata": {
        "colab": {
          "base_uri": "https://localhost:8080/"
        },
        "id": "RZ0VAW2Jf8um",
        "outputId": "6291266f-6821-4a42-ade8-1668ee725c27"
      },
      "execution_count": null,
      "outputs": [
        {
          "name": "stdout",
          "output_type": "stream",
          "text": [
            "enter number:20\n"
          ]
        },
        {
          "output_type": "execute_result",
          "data": {
            "text/plain": [
              "3"
            ]
          },
          "metadata": {},
          "execution_count": 25
        }
      ]
    },
    {
      "cell_type": "markdown",
      "source": [],
      "metadata": {
        "id": "IzZQxKxrs55M"
      }
    },
    {
      "cell_type": "code",
      "source": [
        "count = 0\n",
        "n = int(input(\"enter number:\"))\n",
        "while(n):\n",
        "  n >>= 1\n",
        "  count += 1\n",
        "count\n"
      ],
      "metadata": {
        "colab": {
          "base_uri": "https://localhost:8080/"
        },
        "id": "XJjp5buasxZc",
        "outputId": "e084245b-a063-4253-a7b9-c1c7e9ff70fe"
      },
      "execution_count": null,
      "outputs": [
        {
          "name": "stdout",
          "output_type": "stream",
          "text": [
            "enter number:99\n"
          ]
        },
        {
          "output_type": "execute_result",
          "data": {
            "text/plain": [
              "7"
            ]
          },
          "metadata": {},
          "execution_count": 2
        }
      ]
    },
    {
      "cell_type": "markdown",
      "source": [
        "**The number of 1 bits in a given number is even or odd**"
      ],
      "metadata": {
        "id": "6DRSs6NHEdJ0"
      }
    },
    {
      "cell_type": "code",
      "source": [
        "n = int(input(\"enter number:\"))\n",
        "count = 0\n",
        "while(n):\n",
        "  if n & 1:\n",
        "    count += 1\n",
        "  n >>= 1\n",
        "print(count)\n",
        "if count & 1 == 0:\n",
        "  print(\"even\")\n",
        "else:\n",
        "  print(\"odd\")"
      ],
      "metadata": {
        "colab": {
          "base_uri": "https://localhost:8080/"
        },
        "id": "TiNZfYpRt1WI",
        "outputId": "842ac31b-faec-4f4d-e4f2-9e08035fcda3"
      },
      "execution_count": null,
      "outputs": [
        {
          "output_type": "stream",
          "name": "stdout",
          "text": [
            "enter number:30\n",
            "4\n",
            "even\n"
          ]
        }
      ]
    },
    {
      "cell_type": "markdown",
      "source": [
        "# Letters of English Alphabet"
      ],
      "metadata": {
        "id": "ujkDdcOfuwmQ"
      }
    },
    {
      "cell_type": "markdown",
      "source": [
        "**Convert uppercase charcter to lowercase**"
      ],
      "metadata": {
        "id": "A3FKMB3bvB_j"
      }
    },
    {
      "cell_type": "code",
      "source": [
        "ch = 'Z'\n",
        "chr(ord(ch)|ord(' '))"
      ],
      "metadata": {
        "colab": {
          "base_uri": "https://localhost:8080/",
          "height": 36
        },
        "id": "D1StRTNZuhyI",
        "outputId": "183ad2af-5fe0-4e8d-abee-5d5281cbcc19"
      },
      "execution_count": null,
      "outputs": [
        {
          "output_type": "execute_result",
          "data": {
            "text/plain": [
              "'z'"
            ],
            "application/vnd.google.colaboratory.intrinsic+json": {
              "type": "string"
            }
          },
          "metadata": {},
          "execution_count": 36
        }
      ]
    },
    {
      "cell_type": "code",
      "source": [
        "ord(' '),ord('A'),ord(' ')+ord('A')"
      ],
      "metadata": {
        "colab": {
          "base_uri": "https://localhost:8080/"
        },
        "id": "jiynx6rCvggV",
        "outputId": "3d439364-6b78-497e-b185-e6584b3ab934"
      },
      "execution_count": null,
      "outputs": [
        {
          "output_type": "execute_result",
          "data": {
            "text/plain": [
              "(32, 65, 97)"
            ]
          },
          "metadata": {},
          "execution_count": 42
        }
      ]
    },
    {
      "cell_type": "code",
      "source": [
        "bin(ord(' ')),bin(ord('A')),bin(ord(' '))+bin(ord('A')),bin(97)"
      ],
      "metadata": {
        "colab": {
          "base_uri": "https://localhost:8080/"
        },
        "id": "r-zA_3XBv2r_",
        "outputId": "8ae327b7-0949-4fe4-fb2d-12e49ca384a4"
      },
      "execution_count": null,
      "outputs": [
        {
          "output_type": "execute_result",
          "data": {
            "text/plain": [
              "('0b100000', '0b1000001', '0b1000000b1000001', '0b1100001')"
            ]
          },
          "metadata": {},
          "execution_count": 44
        }
      ]
    },
    {
      "cell_type": "code",
      "source": [
        "for i in range(ord('A'),ord('Z')+1,1):\n",
        "  print()"
      ],
      "metadata": {
        "id": "C4pFDmOCwBdx"
      },
      "execution_count": null,
      "outputs": []
    },
    {
      "cell_type": "code",
      "source": [
        "ch = input(\"enter uppercase character: \")\n",
        "print(chr(ord(ch) | ord(' ')))"
      ],
      "metadata": {
        "colab": {
          "base_uri": "https://localhost:8080/"
        },
        "id": "utaHs1RMww40",
        "outputId": "66ddd6ae-0f98-430e-96de-514c51ac19e9"
      },
      "execution_count": null,
      "outputs": [
        {
          "output_type": "stream",
          "name": "stdout",
          "text": [
            "enter uppercase character: A\n",
            "a\n"
          ]
        }
      ]
    },
    {
      "cell_type": "markdown",
      "source": [
        "**Convert lowercase charcters to uppercase characters**"
      ],
      "metadata": {
        "id": "-ytWP9lQxKuy"
      }
    },
    {
      "cell_type": "code",
      "source": [
        "ch = input(\"Enter lowercase charcters: \")\n",
        "print(chr(ord(ch) ^ ord(' '))) # ch & '_'\n"
      ],
      "metadata": {
        "colab": {
          "base_uri": "https://localhost:8080/"
        },
        "id": "9oWp5pcqxGyc",
        "outputId": "adc7ee74-b853-4b8e-e589-dd9805fe8cd8"
      },
      "execution_count": null,
      "outputs": [
        {
          "output_type": "stream",
          "name": "stdout",
          "text": [
            "Enter lowercase charcters: a\n",
            "A\n"
          ]
        }
      ]
    },
    {
      "cell_type": "code",
      "source": [
        "bin(ord('_'))\n"
      ],
      "metadata": {
        "colab": {
          "base_uri": "https://localhost:8080/",
          "height": 36
        },
        "id": "1U8d9qmrx-vx",
        "outputId": "b2e52586-f1d1-4a82-89fd-9fd661d5570a"
      },
      "execution_count": null,
      "outputs": [
        {
          "output_type": "execute_result",
          "data": {
            "text/plain": [
              "'0b1011111'"
            ],
            "application/vnd.google.colaboratory.intrinsic+json": {
              "type": "string"
            }
          },
          "metadata": {},
          "execution_count": 48
        }
      ]
    },
    {
      "cell_type": "markdown",
      "source": [
        "# Problems"
      ],
      "metadata": {
        "id": "IkQYaqUIFG7J"
      }
    },
    {
      "cell_type": "markdown",
      "source": [
        "**Find XOR of two numbers without using the XOR operator**\n",
        "* x = 0101\n",
        "* y = 1011\n",
        "* x | y = 1111 = 15\n",
        "* x & y = 0001 = 1\n",
        "* x ^ y = 1110 = 14 i.e\n",
        "*    -  = 15 - 1 = 14"
      ],
      "metadata": {
        "id": "NiDXFOpqFNKH"
      }
    },
    {
      "cell_type": "code",
      "source": [
        "x = int(input(\"enter integer: \"))\n",
        "y = int(input(\"enter integer: \"))\n",
        "print((x | y)-(x & y))"
      ],
      "metadata": {
        "id": "Jtgg5Hp7yI24",
        "colab": {
          "base_uri": "https://localhost:8080/"
        },
        "outputId": "31e28496-00e8-447d-8b21-da11d039f240"
      },
      "execution_count": null,
      "outputs": [
        {
          "output_type": "stream",
          "name": "stdout",
          "text": [
            "enter integer: 4\n",
            "enter integer: 5\n",
            "1\n"
          ]
        }
      ]
    },
    {
      "cell_type": "markdown",
      "source": [
        "**Multiply a given integer with 15 without using multiplication and division operators**"
      ],
      "metadata": {
        "id": "SLkNqR68Mo6e"
      }
    },
    {
      "cell_type": "code",
      "source": [
        "bin(4),bin(15),bin(60)"
      ],
      "metadata": {
        "colab": {
          "base_uri": "https://localhost:8080/"
        },
        "id": "m4zm23H-Gnh_",
        "outputId": "7a0deb0d-7c4a-4a66-ac78-b452d5bd06b7"
      },
      "execution_count": null,
      "outputs": [
        {
          "output_type": "execute_result",
          "data": {
            "text/plain": [
              "('0b100', '0b1111', '0b111100')"
            ]
          },
          "metadata": {},
          "execution_count": 3
        }
      ]
    },
    {
      "cell_type": "code",
      "source": [
        "bin(5),bin(15),bin(75)"
      ],
      "metadata": {
        "colab": {
          "base_uri": "https://localhost:8080/"
        },
        "id": "Yowd4QzPK4lJ",
        "outputId": "2322b438-315a-427b-9bdb-c52e3f7444bb"
      },
      "execution_count": null,
      "outputs": [
        {
          "output_type": "execute_result",
          "data": {
            "text/plain": [
              "('0b101', '0b1111', '0b1001011')"
            ]
          },
          "metadata": {},
          "execution_count": 4
        }
      ]
    },
    {
      "cell_type": "code",
      "source": [
        "bin(15<<4)"
      ],
      "metadata": {
        "colab": {
          "base_uri": "https://localhost:8080/",
          "height": 36
        },
        "id": "ggY8UAxILHMB",
        "outputId": "ba389b4e-4594-4c98-d628-59f15a63fbe8"
      },
      "execution_count": null,
      "outputs": [
        {
          "output_type": "execute_result",
          "data": {
            "text/plain": [
              "'0b11110000'"
            ],
            "application/vnd.google.colaboratory.intrinsic+json": {
              "type": "string"
            }
          },
          "metadata": {},
          "execution_count": 5
        }
      ]
    },
    {
      "cell_type": "code",
      "source": [
        "(4<<4 )-15"
      ],
      "metadata": {
        "colab": {
          "base_uri": "https://localhost:8080/"
        },
        "id": "ErIiUdDDLvEO",
        "outputId": "4b9acd7b-23b1-4b71-9a13-231607c370b9"
      },
      "execution_count": null,
      "outputs": [
        {
          "output_type": "execute_result",
          "data": {
            "text/plain": [
              "225"
            ]
          },
          "metadata": {},
          "execution_count": 13
        }
      ]
    },
    {
      "cell_type": "code",
      "source": [
        "print(bin(15<<3),bin(15<<2),bin(15<<1),bin(15<<0))\n",
        "print((15<<3),(15<<2),(15<<1),(15<<0))"
      ],
      "metadata": {
        "id": "F1P-ZgH9QBj8"
      },
      "execution_count": null,
      "outputs": []
    },
    {
      "cell_type": "markdown",
      "source": [
        "15 * n = 8n+4n+2n+1n = 2^3 n + 2^2 n + 2^1 n + 2^0 n = (n<<3)+(n<<2)+(n<<1)+n"
      ],
      "metadata": {
        "id": "nwl_cMBYMu1V"
      }
    },
    {
      "cell_type": "code",
      "source": [
        "4<<3,bin(4<<3)"
      ],
      "metadata": {
        "id": "5VJ2yz0-QEyA"
      },
      "execution_count": null,
      "outputs": []
    },
    {
      "cell_type": "code",
      "source": [
        "n = int(input(\"enter integer: \"))\n",
        "print((n<<3)+(n<<2)+(n<<1)+n)"
      ],
      "metadata": {
        "colab": {
          "base_uri": "https://localhost:8080/"
        },
        "id": "bxaeRLP4L5Br",
        "outputId": "97d1ad54-05bb-4ee9-d523-ca252b14e9b0"
      },
      "execution_count": null,
      "outputs": [
        {
          "output_type": "stream",
          "name": "stdout",
          "text": [
            "enter integer: 3\n",
            "45\n"
          ]
        }
      ]
    },
    {
      "cell_type": "markdown",
      "source": [
        "The idea is to use the left shift bitwise operator to solve this problem. Let the given integer be n. We know that 15 × n can be rewritten as:\n",
        "\n",
        "`15 × n = (16 × n - n) = (n << 4) - n`\n",
        "\n",
        "We can extend this solution to any number of forms, 2i-1, where i >= 1, and we can use the expression (`n << i) - n`"
      ],
      "metadata": {
        "id": "Yl_dX4pZPq4w"
      }
    },
    {
      "cell_type": "code",
      "source": [
        "n = int(input(\"enter integer: \"))\n",
        "print((n<<4)-n)"
      ],
      "metadata": {
        "colab": {
          "base_uri": "https://localhost:8080/"
        },
        "id": "T60cvFmZP0U3",
        "outputId": "c94c8b64-e14a-4b36-9d93-d4fe79e100bf"
      },
      "execution_count": null,
      "outputs": [
        {
          "output_type": "stream",
          "name": "stdout",
          "text": [
            "enter integer: 4\n",
            "60\n"
          ]
        }
      ]
    },
    {
      "cell_type": "markdown",
      "source": [
        "**Multiply a given even integer with 7.5 without using multiplication and division operators**\n",
        "* 7.5n = 15 * n/2 = (15n)/2\n",
        "* from above\n",
        "* 15n = (n<<4)-n\n",
        "* /2 means right shift operator\n",
        "* so `((n<<4) - n ) >> 1`\n",
        "* 7.5n = 15 × n/2 = `((n << 3) + (n << 2) + (n << 1) + n ) >> 1`\n",
        "* **another apporach**\n",
        "* 7.5n = 8n - n/2 = `((n << 3) - (n >> 1) - (n & 1))`"
      ],
      "metadata": {
        "id": "500dn0PWQKzg"
      }
    },
    {
      "cell_type": "code",
      "source": [
        "n = int(input(\"enter integer: \"))\n",
        "print(((n<<4)-n)>>1)"
      ],
      "metadata": {
        "colab": {
          "base_uri": "https://localhost:8080/"
        },
        "id": "k0vROfjSRG-8",
        "outputId": "42d3aa99-0a04-48b7-dcff-327a9fdbc715"
      },
      "execution_count": null,
      "outputs": [
        {
          "output_type": "stream",
          "name": "stdout",
          "text": [
            "enter integer: 3\n",
            "22\n"
          ]
        }
      ]
    },
    {
      "cell_type": "code",
      "source": [
        "n = int(input(\"enter integer: \"))\n",
        "print((n<<3)-(n>>1))\n",
        "print((n<<3)-(n>>1) -(n&1))\n"
      ],
      "metadata": {
        "colab": {
          "base_uri": "https://localhost:8080/"
        },
        "id": "6iSkqjzTN4y4",
        "outputId": "dbee5f45-fc50-46ac-d442-223db1ba1cd8"
      },
      "execution_count": null,
      "outputs": [
        {
          "output_type": "stream",
          "name": "stdout",
          "text": [
            "enter integer: 3\n",
            "23\n",
            "22\n"
          ]
        }
      ]
    },
    {
      "cell_type": "code",
      "source": [
        "7.5*3\n"
      ],
      "metadata": {
        "colab": {
          "base_uri": "https://localhost:8080/"
        },
        "id": "PcQq2iG0O9Ig",
        "outputId": "ae95f7ac-bcfc-4f8e-901f-770c7db67216"
      },
      "execution_count": null,
      "outputs": [
        {
          "output_type": "execute_result",
          "data": {
            "text/plain": [
              "22.5"
            ]
          },
          "metadata": {},
          "execution_count": 22
        }
      ]
    },
    {
      "cell_type": "markdown",
      "source": [
        "**Calculate value of 15 × n/16 without using multiplication and division operators**\n",
        "* 15 × n/16 = `(n << 4) - n) >> 4`        \n",
        "* 15 × n/16 = `((n << 3) + (n << 2) + (n << 1) + n) >> 4`\n",
        "* 15 × n/16 = n - n/16 = `n - (n >> 4)`"
      ],
      "metadata": {
        "id": "1bhRpmt_SAQf"
      }
    },
    {
      "cell_type": "code",
      "source": [
        "n = int(input(\"enter integer: \"))\n",
        "print(((n<<4)-n)>>4)"
      ],
      "metadata": {
        "colab": {
          "base_uri": "https://localhost:8080/"
        },
        "id": "f0rjUvnEREaT",
        "outputId": "3a415a4e-428b-418b-ea70-6ac60dc61a35"
      },
      "execution_count": null,
      "outputs": [
        {
          "output_type": "stream",
          "name": "stdout",
          "text": [
            "enter integer: 5\n",
            "4\n"
          ]
        }
      ]
    },
    {
      "cell_type": "code",
      "source": [
        "(15*5)/16"
      ],
      "metadata": {
        "colab": {
          "base_uri": "https://localhost:8080/"
        },
        "id": "QuqumDkwR2BJ",
        "outputId": "c0eb3ac2-dfd0-478d-aef4-4255ec0ad57e"
      },
      "execution_count": null,
      "outputs": [
        {
          "output_type": "execute_result",
          "data": {
            "text/plain": [
              "4.6875"
            ]
          },
          "metadata": {},
          "execution_count": 26
        }
      ]
    },
    {
      "cell_type": "code",
      "source": [
        "n = int(input(\"enter a number: \"))\n",
        "power = int(input(\"enter power number: \"))\n",
        "if n <= 0:\n",
        "  print(\"not\")\n",
        "while n%power == 0:\n",
        "  n //= power\n",
        "if n == 1:\n",
        "  print(\"yes\")\n",
        "else :\n",
        "  print(\"no\")"
      ],
      "metadata": {
        "colab": {
          "base_uri": "https://localhost:8080/"
        },
        "id": "kmSF0f38R6Qh",
        "outputId": "734641e2-fc76-432f-a517-58b191ae6be6"
      },
      "execution_count": null,
      "outputs": [
        {
          "output_type": "stream",
          "name": "stdout",
          "text": [
            "enter a number: 16\n",
            "enter power number: 4\n",
            "yes\n"
          ]
        }
      ]
    },
    {
      "cell_type": "markdown",
      "source": [
        "**Compute the sign of an integer**\n",
        "* if leftmost bits are 0's then it is a postive number otherwise it is negative number\n"
      ],
      "metadata": {
        "id": "MWA6-xgrm7Gw"
      }
    },
    {
      "cell_type": "code",
      "source": [
        "n = int(input(\"enter a number:\"))\n",
        "n = n >> 31 ###\n",
        "n = n & 1 ###\n",
        "if n == 1:\n",
        "  print(\"neagtive\")\n",
        "else:\n",
        "  print(\"postive\")"
      ],
      "metadata": {
        "id": "ymCzKXjsWB73",
        "colab": {
          "base_uri": "https://localhost:8080/"
        },
        "outputId": "601c72a0-a32e-4bba-abc5-3c317ffe8141"
      },
      "execution_count": null,
      "outputs": [
        {
          "output_type": "stream",
          "name": "stdout",
          "text": [
            "enter a number:-31\n",
            "neagtive\n"
          ]
        }
      ]
    },
    {
      "cell_type": "markdown",
      "source": [
        "**Number of bits to be flipped to convert A to B**"
      ],
      "metadata": {
        "id": "_iAjxwRhvvv1"
      }
    },
    {
      "cell_type": "code",
      "source": [
        "A = bin(int(input(\"enter nubmer: \")))\n",
        "B = bin(int(input(\"enter nubmer: \")))\n",
        "print(A,B)\n",
        "count = 0\n",
        "if len(A) == len(B):\n",
        "  for i in range(len(A)-1,-1,-1):\n",
        "    if A[i] == B[i]:\n",
        "      continue\n",
        "    else:\n",
        "      count += 1\n",
        "print(count)\n"
      ],
      "metadata": {
        "colab": {
          "base_uri": "https://localhost:8080/"
        },
        "id": "mWko6Us5rkpA",
        "outputId": "ef00c38f-9416-4079-bf9b-f6d8762ed42c"
      },
      "execution_count": null,
      "outputs": [
        {
          "output_type": "stream",
          "name": "stdout",
          "text": [
            "enter nubmer: 8\n",
            "enter nubmer: 7\n",
            "0b1000 0b111\n",
            "0\n"
          ]
        }
      ]
    },
    {
      "cell_type": "code",
      "source": [
        "A = int(input(\"enter nubmer: \"))\n",
        "B = int(input(\"enter nubmer: \"))\n",
        "print(A,B)\n",
        "count = 0\n",
        "max_len_bits = max(A.bit_length(),B.bit_length())\n",
        "print(max_len_bits)\n",
        "A = format(A,'0{}b'.format(max_len_bits))\n",
        "B = format(B,'0{}b'.format(max_len_bits))\n",
        "\n",
        "print(A,B)\n"
      ],
      "metadata": {
        "colab": {
          "base_uri": "https://localhost:8080/"
        },
        "id": "9ViW3K8AwTom",
        "outputId": "aed8ff83-bd90-4918-9692-61a70275c1d6"
      },
      "execution_count": null,
      "outputs": [
        {
          "output_type": "stream",
          "name": "stdout",
          "text": [
            "enter nubmer: 8\n",
            "enter nubmer: 4\n",
            "8 4\n",
            "4\n",
            "1000\n"
          ]
        }
      ]
    },
    {
      "cell_type": "code",
      "source": [],
      "metadata": {
        "id": "kb1KUoKbxorV"
      },
      "execution_count": null,
      "outputs": []
    }
  ]
}