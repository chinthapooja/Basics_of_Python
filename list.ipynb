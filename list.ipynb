{
  "nbformat": 4,
  "nbformat_minor": 0,
  "metadata": {
    "colab": {
      "provenance": [],
      "authorship_tag": "ABX9TyNrtTO86u5LGLYGmU8uEuK+",
      "include_colab_link": true
    },
    "kernelspec": {
      "name": "python3",
      "display_name": "Python 3"
    },
    "language_info": {
      "name": "python"
    }
  },
  "cells": [
    {
      "cell_type": "markdown",
      "metadata": {
        "id": "view-in-github",
        "colab_type": "text"
      },
      "source": [
        "<a href=\"https://colab.research.google.com/github/chinthapooja/Basics_of_Python/blob/main/list.ipynb\" target=\"_parent\"><img src=\"https://colab.research.google.com/assets/colab-badge.svg\" alt=\"Open In Colab\"/></a>"
      ]
    },
    {
      "cell_type": "markdown",
      "source": [
        "**List:**\n",
        "* it is a sequence of data types which is used to store the collection of data,enclosed in [ ] and separted by comma.\n",
        "* dynamically sized arrays\n",
        "* in list elements need not to be homogenous that is a single list can contain different datatypes like integers,strings,objects,list,tuple\n",
        "* it is mutable"
      ],
      "metadata": {
        "id": "PIdx5gcdWyNx"
      }
    },
    {
      "cell_type": "code",
      "source": [
        "# creating a list\n",
        "lst = ['1','a',1]\n",
        "lst"
      ],
      "metadata": {
        "id": "CAJmt-zJALHI",
        "colab": {
          "base_uri": "https://localhost:8080/"
        },
        "outputId": "804f751b-d389-49fa-9644-2f973610bc5d"
      },
      "execution_count": 1,
      "outputs": [
        {
          "output_type": "execute_result",
          "data": {
            "text/plain": [
              "['1', 'a', 1]"
            ]
          },
          "metadata": {},
          "execution_count": 1
        }
      ]
    },
    {
      "cell_type": "code",
      "source": [
        "# empty list\n",
        "lst = []\n",
        "lst"
      ],
      "metadata": {
        "id": "kY7CWdZPANr9",
        "colab": {
          "base_uri": "https://localhost:8080/"
        },
        "outputId": "5d8dede6-4b44-4298-e3c7-cb31a421a3b7"
      },
      "execution_count": 2,
      "outputs": [
        {
          "output_type": "execute_result",
          "data": {
            "text/plain": [
              "[]"
            ]
          },
          "metadata": {},
          "execution_count": 2
        }
      ]
    },
    {
      "cell_type": "markdown",
      "source": [
        "Complexities for creating lists\n",
        "* Time Complexity : O(1)\n",
        "* space Complexity : O(n)"
      ],
      "metadata": {
        "id": "XXFncjzkYQRb"
      }
    },
    {
      "cell_type": "code",
      "source": [
        "#  creating a list with multiple duplicate elements\n",
        "lst = [1,2,3,4,'a','x','list elements',1,1,'a']\n",
        "lst # duplicate values can be passed as a sequence at the time of list creation"
      ],
      "metadata": {
        "id": "L72u_Ld1YKPF",
        "colab": {
          "base_uri": "https://localhost:8080/"
        },
        "outputId": "061471c6-3949-4a39-e55d-400ddaa40022"
      },
      "execution_count": 3,
      "outputs": [
        {
          "output_type": "execute_result",
          "data": {
            "text/plain": [
              "[1, 2, 3, 4, 'a', 'x', 'list elements', 1, 1, 'a']"
            ]
          },
          "metadata": {},
          "execution_count": 3
        }
      ]
    },
    {
      "cell_type": "markdown",
      "source": [
        "Accessing list elements:\n",
        "* list elements are accessed by using index number\n",
        "* also by using negative indexing\n",
        "  * negative indexing sequence represent positions from the end of the array\n",
        "  * negative indexing begins from the end, -1 refers to the last item, -2 refers to the second last item,etc.\n",
        "  * Instead of having to compute the offset as in list[len(list)-3], it is enough to just write list[-3]\n",
        "* Complexities for Accessing elements in a Lists:\n",
        "  * Time Complexity : O(1)\n",
        "  * space Complexity : O(1)"
      ],
      "metadata": {
        "id": "8J_AsaGIZHbD"
      }
    },
    {
      "cell_type": "code",
      "source": [
        "lst[3]"
      ],
      "metadata": {
        "id": "al0Mmck-Y3DM",
        "colab": {
          "base_uri": "https://localhost:8080/"
        },
        "outputId": "8a7b08d4-f9d0-4c1e-9938-c5a3957670cb"
      },
      "execution_count": 4,
      "outputs": [
        {
          "output_type": "execute_result",
          "data": {
            "text/plain": [
              "4"
            ]
          },
          "metadata": {},
          "execution_count": 4
        }
      ]
    },
    {
      "cell_type": "code",
      "source": [
        "lst[0]"
      ],
      "metadata": {
        "id": "X9gGhqnxZZG6",
        "colab": {
          "base_uri": "https://localhost:8080/"
        },
        "outputId": "3f4654b0-a091-4596-8d95-cc57072a5dca"
      },
      "execution_count": 5,
      "outputs": [
        {
          "output_type": "execute_result",
          "data": {
            "text/plain": [
              "1"
            ]
          },
          "metadata": {},
          "execution_count": 5
        }
      ]
    },
    {
      "cell_type": "code",
      "source": [
        "# nested list\n",
        "lst = [1,2,3,['a','b','c',10]]\n",
        "print(lst[3])\n",
        "print(lst[3][0])"
      ],
      "metadata": {
        "id": "EwT-AAR5Zalp",
        "colab": {
          "base_uri": "https://localhost:8080/"
        },
        "outputId": "d5bb370e-10b2-4659-80a8-b5cf9c223857"
      },
      "execution_count": 6,
      "outputs": [
        {
          "output_type": "stream",
          "name": "stdout",
          "text": [
            "['a', 'b', 'c', 10]\n",
            "a\n"
          ]
        }
      ]
    },
    {
      "cell_type": "code",
      "source": [
        "lst = [1,2,3,4,'a','x','list elements',1,100,'a']\n",
        "print(lst[-1])\n",
        "print(lst[len(lst)-2])\n",
        "print(lst[-2])"
      ],
      "metadata": {
        "id": "nSYrqcJ1ZqQ6",
        "colab": {
          "base_uri": "https://localhost:8080/"
        },
        "outputId": "053ccc26-b70f-4c2a-9dd0-0899e78e9409"
      },
      "execution_count": 7,
      "outputs": [
        {
          "output_type": "stream",
          "name": "stdout",
          "text": [
            "a\n",
            "100\n",
            "100\n"
          ]
        }
      ]
    },
    {
      "cell_type": "code",
      "source": [
        "# size of list\n",
        "len(lst)"
      ],
      "metadata": {
        "id": "4kFUltgabLZs",
        "colab": {
          "base_uri": "https://localhost:8080/"
        },
        "outputId": "2a0c8023-ad45-43c2-dadc-94712b4a6909"
      },
      "execution_count": 8,
      "outputs": [
        {
          "output_type": "execute_result",
          "data": {
            "text/plain": [
              "10"
            ]
          },
          "metadata": {},
          "execution_count": 8
        }
      ]
    },
    {
      "cell_type": "code",
      "source": [
        "# can take the input of a list of elements as string,integer,float,etc., but the default one is a string\n",
        "stng = input('enter the elements by space separated:')\n",
        "print(stng)\n",
        "lst = stng.split()\n",
        "print(lst)"
      ],
      "metadata": {
        "id": "ql9Zf8qobP5u",
        "colab": {
          "base_uri": "https://localhost:8080/"
        },
        "outputId": "5f935907-0de7-40ac-f96a-93543792e364"
      },
      "execution_count": 9,
      "outputs": [
        {
          "output_type": "stream",
          "name": "stdout",
          "text": [
            "enter the elements by space separated:python basics\n",
            "python basics\n",
            "['python', 'basics']\n"
          ]
        }
      ]
    },
    {
      "cell_type": "markdown",
      "source": [
        "\n",
        "map(function,iterables)\n",
        "* map() function executes the specified function for each item in iterables\n",
        "\n",
        "strip(characters)\n",
        "* strip() function removes any leading and trailing characters this is default\n",
        "* characters - to be removed"
      ],
      "metadata": {
        "id": "bQwWvkV3d3Zk"
      }
    },
    {
      "cell_type": "code",
      "source": [
        "def func(lst):\n",
        "  return len(lst)\n",
        "p = map(func,['python','fundamentals','123',[1,2,3,4,5]])\n",
        "q = map(func,(('python','fundamentals'),['123',[1,2,3,4,5],1]))\n",
        "#q = map(func,[('python','fundamentals'),['123',[1,2,3,4,5],1]])\n",
        "print(list(q))\n",
        "print(list(p),p)"
      ],
      "metadata": {
        "id": "WzWwJX0jhIgc",
        "colab": {
          "base_uri": "https://localhost:8080/"
        },
        "outputId": "2c269678-467a-43c2-baf2-340f907ea6fd"
      },
      "execution_count": 10,
      "outputs": [
        {
          "output_type": "stream",
          "name": "stdout",
          "text": [
            "[2, 3]\n",
            "[6, 12, 3, 5] <map object at 0x7ba4e52ca0e0>\n"
          ]
        }
      ]
    },
    {
      "cell_type": "code",
      "source": [
        "stng = \"   hellol, welcome to python fundamentals     \"\n",
        "print(stng)\n",
        "print(stng.strip())\n",
        "print(stng.strip(' helo'))\n",
        "p =stng.strip(' hellol')\n",
        "print(p)\n",
        "\n",
        "print(stng.strip(' hellol'))\n",
        "print(stng.strip('hellol'))\n",
        "print(stng.strip(' fudametals'))"
      ],
      "metadata": {
        "id": "zdvPO7XkbymZ",
        "colab": {
          "base_uri": "https://localhost:8080/"
        },
        "outputId": "17ddf9e6-fa0d-4afe-b66f-8d517404c28c"
      },
      "execution_count": 11,
      "outputs": [
        {
          "output_type": "stream",
          "name": "stdout",
          "text": [
            "   hellol, welcome to python fundamentals     \n",
            "hellol, welcome to python fundamentals\n",
            ", welcome to python fundamentals\n",
            ", welcome to python fundamentals\n",
            ", welcome to python fundamentals\n",
            "   hellol, welcome to python fundamentals     \n",
            "hellol, welcome to python fundamen\n"
          ]
        }
      ]
    },
    {
      "cell_type": "code",
      "source": [
        "n = int(input(\"len of the list:\"))\n",
        "lst = list(map(int,input(\"enter the integer:\").strip().split()))[:n]\n",
        "print(lst)"
      ],
      "metadata": {
        "id": "6bu6ACBrgw0z",
        "colab": {
          "base_uri": "https://localhost:8080/"
        },
        "outputId": "80ba8deb-93da-4498-fb6b-336f73f7e2f5"
      },
      "execution_count": 12,
      "outputs": [
        {
          "output_type": "stream",
          "name": "stdout",
          "text": [
            "len of the list:5\n",
            "enter the integer:1 9 20 38 46 56\n",
            "[1, 9, 20, 38, 46]\n"
          ]
        }
      ]
    },
    {
      "cell_type": "markdown",
      "source": [
        "Adding elements to list\n",
        "* append()\n",
        "  * can only add one element at a time\n",
        "  * if we want add multiple elements using append() then put append() function in loop\n",
        "  * can also add list, tuple\n",
        "  * add the element to the \"end of the list\"\n",
        "  * Complexities for Adding elements in a Lists(append() method):\n",
        "    * Time Complexity: O(1)\n",
        "    * Space Complexity: O(1)\n",
        "* insert()\n",
        "  * to add element at desire postion i.e any where in the list\n",
        "  * insert(position,value)\n",
        "  * Complexities for Adding elements in a Lists(insert() method):\n",
        "    * Time Complexity: O(n)\n",
        "    * Space Complexity: O(1)\n",
        "* extend()\n",
        "  * add multiple elements at the end of list\n",
        "  * Complexities for Adding elements in a Lists(extend() method):\n",
        "    * Time Complexity: O(n)\n",
        "    * Space Complexity: O(1)"
      ],
      "metadata": {
        "id": "_wkypBorjKQO"
      }
    },
    {
      "cell_type": "code",
      "source": [
        "lst = []\n",
        "print(lst)\n",
        "\n",
        "lst.append(1)\n",
        "print(lst)\n",
        "\n",
        "for i in range(5):\n",
        "  lst.append(i)\n",
        "  print(lst)\n",
        "\n",
        "lst.append((20,30))\n",
        "print(lst)\n",
        "\n",
        "lst.append(['a','b'])\n",
        "print(lst)"
      ],
      "metadata": {
        "id": "dx8lK1bNi3NJ",
        "colab": {
          "base_uri": "https://localhost:8080/"
        },
        "outputId": "674dda00-32dc-4d88-c596-75b442c8b85f"
      },
      "execution_count": 13,
      "outputs": [
        {
          "output_type": "stream",
          "name": "stdout",
          "text": [
            "[]\n",
            "[1]\n",
            "[1, 0]\n",
            "[1, 0, 1]\n",
            "[1, 0, 1, 2]\n",
            "[1, 0, 1, 2, 3]\n",
            "[1, 0, 1, 2, 3, 4]\n",
            "[1, 0, 1, 2, 3, 4, (20, 30)]\n",
            "[1, 0, 1, 2, 3, 4, (20, 30), ['a', 'b']]\n"
          ]
        }
      ]
    },
    {
      "cell_type": "code",
      "source": [
        "lst"
      ],
      "metadata": {
        "id": "Wt51efhmj08x",
        "colab": {
          "base_uri": "https://localhost:8080/"
        },
        "outputId": "707f1db9-bb84-4f57-c454-d5d060ef1da0"
      },
      "execution_count": 14,
      "outputs": [
        {
          "output_type": "execute_result",
          "data": {
            "text/plain": [
              "[1, 0, 1, 2, 3, 4, (20, 30), ['a', 'b']]"
            ]
          },
          "metadata": {},
          "execution_count": 14
        }
      ]
    },
    {
      "cell_type": "code",
      "source": [
        "lst.insert(0,\"insearting_at_0_th_position\")\n",
        "lst"
      ],
      "metadata": {
        "id": "uhn2aOSlAe9J",
        "colab": {
          "base_uri": "https://localhost:8080/"
        },
        "outputId": "c21d7563-1e4f-4f39-b6a1-3f6e8448c12a"
      },
      "execution_count": 15,
      "outputs": [
        {
          "output_type": "execute_result",
          "data": {
            "text/plain": [
              "['insearting_at_0_th_position', 1, 0, 1, 2, 3, 4, (20, 30), ['a', 'b']]"
            ]
          },
          "metadata": {},
          "execution_count": 15
        }
      ]
    },
    {
      "cell_type": "code",
      "source": [
        "lst.extend(((\"end\",100,200),))\n",
        "lst"
      ],
      "metadata": {
        "id": "9I2qwz5TAxUN",
        "colab": {
          "base_uri": "https://localhost:8080/"
        },
        "outputId": "78aef53d-de06-4433-d218-011994b0196b"
      },
      "execution_count": 16,
      "outputs": [
        {
          "output_type": "execute_result",
          "data": {
            "text/plain": [
              "['insearting_at_0_th_position',\n",
              " 1,\n",
              " 0,\n",
              " 1,\n",
              " 2,\n",
              " 3,\n",
              " 4,\n",
              " (20, 30),\n",
              " ['a', 'b'],\n",
              " ('end', 100, 200)]"
            ]
          },
          "metadata": {},
          "execution_count": 16
        }
      ]
    },
    {
      "cell_type": "code",
      "source": [
        "lst.extend([10,20,30])\n",
        "lst"
      ],
      "metadata": {
        "id": "jGmmfq-BBLGK",
        "colab": {
          "base_uri": "https://localhost:8080/"
        },
        "outputId": "a2961159-480e-45a5-89d7-174dd219819c"
      },
      "execution_count": 17,
      "outputs": [
        {
          "output_type": "execute_result",
          "data": {
            "text/plain": [
              "['insearting_at_0_th_position',\n",
              " 1,\n",
              " 0,\n",
              " 1,\n",
              " 2,\n",
              " 3,\n",
              " 4,\n",
              " (20, 30),\n",
              " ['a', 'b'],\n",
              " ('end', 100, 200),\n",
              " 10,\n",
              " 20,\n",
              " 30]"
            ]
          },
          "metadata": {},
          "execution_count": 17
        }
      ]
    },
    {
      "cell_type": "code",
      "source": [
        "lst.extend(([64,65],))  # lst.extend(([64,65]))  try this\n",
        "lst"
      ],
      "metadata": {
        "id": "gE9hszcGS5Oz",
        "colab": {
          "base_uri": "https://localhost:8080/"
        },
        "outputId": "10833905-6754-427a-a1a1-d1948b2507ce"
      },
      "execution_count": 18,
      "outputs": [
        {
          "output_type": "execute_result",
          "data": {
            "text/plain": [
              "['insearting_at_0_th_position',\n",
              " 1,\n",
              " 0,\n",
              " 1,\n",
              " 2,\n",
              " 3,\n",
              " 4,\n",
              " (20, 30),\n",
              " ['a', 'b'],\n",
              " ('end', 100, 200),\n",
              " 10,\n",
              " 20,\n",
              " 30,\n",
              " [64, 65]]"
            ]
          },
          "metadata": {},
          "execution_count": 18
        }
      ]
    },
    {
      "cell_type": "markdown",
      "source": [
        "Reverse a list:\n",
        "* using reverse() method\n",
        "* negative slicing"
      ],
      "metadata": {
        "id": "y7fCObonBjV4"
      }
    },
    {
      "cell_type": "code",
      "source": [
        "lst = [1,2,'python']\n",
        "lst.reverse()\n",
        "print(lst)"
      ],
      "metadata": {
        "id": "rjImw9x_BR2L",
        "colab": {
          "base_uri": "https://localhost:8080/"
        },
        "outputId": "6c71ea56-16bf-4864-e9cf-6c01651c17a9"
      },
      "execution_count": 19,
      "outputs": [
        {
          "output_type": "stream",
          "name": "stdout",
          "text": [
            "['python', 2, 1]\n"
          ]
        }
      ]
    },
    {
      "cell_type": "code",
      "source": [
        "lst = [1,2,'python']\n",
        "lst = lst[::-1]\n",
        "print(lst)"
      ],
      "metadata": {
        "id": "JxXG4X3qBtCa",
        "colab": {
          "base_uri": "https://localhost:8080/"
        },
        "outputId": "9ea05ff2-8ea8-4cdf-fc8e-db3a3dba3fb1"
      },
      "execution_count": 20,
      "outputs": [
        {
          "output_type": "stream",
          "name": "stdout",
          "text": [
            "['python', 2, 1]\n"
          ]
        }
      ]
    },
    {
      "cell_type": "markdown",
      "source": [
        "Removing elements from list:\n",
        "* remove()\n",
        "  * only one element can be removed at a time from list by using remove() method but if element is not present then it gives error\n",
        "  * if want to remove multiple elements use for loop\n",
        "  * remove method removes first occurence of the element\n",
        "  * Complexities for removing elements in a Lists:\n",
        "    * Time Complexity: O(n)\n",
        "    * Space Complexity: O(1)\n",
        "  * remove() method doesnot return anything\n",
        "* pop()\n",
        "  * it remove and returns the removed element from the list\n",
        "  * by default it removes the last element of the list\n",
        "  * in pop() method index of the element to be passed not direclty element\n",
        "  * Complexities for removing elements in a Lists:\n",
        "    * Time Complexity: O(1) for removing last element and O(n) for other elements\n",
        "    * Space Complexity: O(1)"
      ],
      "metadata": {
        "id": "TNuMPjNtDFPQ"
      }
    },
    {
      "cell_type": "code",
      "source": [
        "lst = [1,2,3,'python','fundametals']\n",
        "removed =  lst.remove(1)\n",
        "print(lst)\n",
        "print(removed)"
      ],
      "metadata": {
        "id": "eM8hvprpCsS6",
        "colab": {
          "base_uri": "https://localhost:8080/"
        },
        "outputId": "bca232ef-b189-47c8-bccc-4e59f1424cb1"
      },
      "execution_count": 21,
      "outputs": [
        {
          "output_type": "stream",
          "name": "stdout",
          "text": [
            "[2, 3, 'python', 'fundametals']\n",
            "None\n"
          ]
        }
      ]
    },
    {
      "cell_type": "code",
      "source": [
        "r = lst.remove('a')\n",
        "print(r)"
      ],
      "metadata": {
        "id": "VPmYvAGzDgGi",
        "colab": {
          "base_uri": "https://localhost:8080/",
          "height": 182
        },
        "outputId": "1a43b3c0-6cd7-46a8-d10d-3a78929ab7b9"
      },
      "execution_count": 22,
      "outputs": [
        {
          "output_type": "error",
          "ename": "ValueError",
          "evalue": "ignored",
          "traceback": [
            "\u001b[0;31m---------------------------------------------------------------------------\u001b[0m",
            "\u001b[0;31mValueError\u001b[0m                                Traceback (most recent call last)",
            "\u001b[0;32m<ipython-input-22-e567cc6dc894>\u001b[0m in \u001b[0;36m<cell line: 1>\u001b[0;34m()\u001b[0m\n\u001b[0;32m----> 1\u001b[0;31m \u001b[0mr\u001b[0m \u001b[0;34m=\u001b[0m \u001b[0mlst\u001b[0m\u001b[0;34m.\u001b[0m\u001b[0mremove\u001b[0m\u001b[0;34m(\u001b[0m\u001b[0;34m'a'\u001b[0m\u001b[0;34m)\u001b[0m\u001b[0;34m\u001b[0m\u001b[0;34m\u001b[0m\u001b[0m\n\u001b[0m\u001b[1;32m      2\u001b[0m \u001b[0mprint\u001b[0m\u001b[0;34m(\u001b[0m\u001b[0mr\u001b[0m\u001b[0;34m)\u001b[0m\u001b[0;34m\u001b[0m\u001b[0;34m\u001b[0m\u001b[0m\n",
            "\u001b[0;31mValueError\u001b[0m: list.remove(x): x not in list"
          ]
        }
      ]
    },
    {
      "cell_type": "code",
      "source": [
        "lst = [1,2,3,4,1,20,1]\n",
        "lst.remove(1)\n",
        "print(lst)"
      ],
      "metadata": {
        "id": "kcB1C3SAD0lH"
      },
      "execution_count": null,
      "outputs": []
    },
    {
      "cell_type": "code",
      "source": [
        "lst = [1,9,4,7,2,9,17]\n",
        "r = lst.pop(1)\n",
        "print(r)\n",
        "print(lst)"
      ],
      "metadata": {
        "id": "Jp4J9BFJE6UN"
      },
      "execution_count": null,
      "outputs": []
    },
    {
      "cell_type": "markdown",
      "source": [
        "Slicing of list:\n",
        "* By using slicing we can get substrings and sublists\n",
        "* slice operation is performed by using :(colon) operator\n",
        "*list[start:end:step]\n"
      ],
      "metadata": {
        "id": "z11nwpTuF1su"
      }
    },
    {
      "cell_type": "code",
      "source": [
        "lst = [1,12,33,24,5,16,7,8,9]\n",
        "\n",
        "# to print elements from begining to at some point\n",
        "print(lst[:5])\n",
        "\n",
        "# to print elemnet from end\n",
        "print(lst[:-5])\n",
        "\n",
        "# print elements from a specific index till the end\n",
        "print(lst[2:])\n",
        "\n",
        "# print the whole list in reverse order\n",
        "print(lst[::-1])\n",
        "\n",
        "print(lst[-5:])\n",
        "print(lst[-5:-2])\n"
      ],
      "metadata": {
        "id": "oyaitubEFZsu",
        "colab": {
          "base_uri": "https://localhost:8080/"
        },
        "outputId": "1d4d9a60-1060-4f11-e9d3-edfab60dc356"
      },
      "execution_count": 23,
      "outputs": [
        {
          "output_type": "stream",
          "name": "stdout",
          "text": [
            "[1, 12, 33, 24, 5]\n",
            "[1, 12, 33, 24]\n",
            "[33, 24, 5, 16, 7, 8, 9]\n",
            "[9, 8, 7, 16, 5, 24, 33, 12, 1]\n",
            "[5, 16, 7, 8, 9]\n",
            "[5, 16, 7]\n"
          ]
        }
      ]
    },
    {
      "cell_type": "markdown",
      "source": [
        "List Comprehension:\n",
        "* `newlist = [expression(element) for element in oldlist if condition]`\n",
        "* list comprehensions create a new list from the other iterables like tuples, string, arrays,lists, etc.,\n",
        "* list comprehension consists of brackets containing the expression, which is executed for each element along with the for loop to iterate over each element"
      ],
      "metadata": {
        "id": "WxrXvJPpH3CM"
      }
    },
    {
      "cell_type": "code",
      "source": [
        "newlist = [i**3 for i in range(1,11) if i%2 == 1]\n",
        "print(newlist)"
      ],
      "metadata": {
        "id": "vR9FaLsOGabC",
        "colab": {
          "base_uri": "https://localhost:8080/"
        },
        "outputId": "5accb184-ad48-4fa1-e3ec-27af58217ec3"
      },
      "execution_count": 24,
      "outputs": [
        {
          "output_type": "stream",
          "name": "stdout",
          "text": [
            "[1, 27, 125, 343, 729]\n"
          ]
        }
      ]
    },
    {
      "cell_type": "code",
      "source": [
        "newlist = []\n",
        "for i in range(1,11):\n",
        "  if i%2 == 1:\n",
        "    newlist.append(i**3)\n",
        "print(newlist)"
      ],
      "metadata": {
        "id": "IoPPhVBDJWpF",
        "colab": {
          "base_uri": "https://localhost:8080/"
        },
        "outputId": "145a385d-fe2c-449e-ff5a-d20883271a8e"
      },
      "execution_count": 25,
      "outputs": [
        {
          "output_type": "stream",
          "name": "stdout",
          "text": [
            "[1, 27, 125, 343, 729]\n"
          ]
        }
      ]
    },
    {
      "cell_type": "markdown",
      "source": [
        "Nested List comprehension:\n",
        "* list compreshension within another list comprehension (similar to nested for loops)"
      ],
      "metadata": {
        "id": "eNWrC_1qTz_o"
      }
    },
    {
      "cell_type": "code",
      "source": [
        "lst = []\n",
        "for i in range(5):\n",
        "  l = []\n",
        "  for j in range(5):\n",
        "    l.append(j)\n",
        "  lst.append(l)\n",
        "print(lst)"
      ],
      "metadata": {
        "id": "MtHsS-F0Jmhc",
        "colab": {
          "base_uri": "https://localhost:8080/"
        },
        "outputId": "0e96d11a-3b44-4569-8cc3-e3d1e05766ea"
      },
      "execution_count": 26,
      "outputs": [
        {
          "output_type": "stream",
          "name": "stdout",
          "text": [
            "[[0, 1, 2, 3, 4], [0, 1, 2, 3, 4], [0, 1, 2, 3, 4], [0, 1, 2, 3, 4], [0, 1, 2, 3, 4]]\n"
          ]
        }
      ]
    },
    {
      "cell_type": "code",
      "source": [
        "lst = [[j for j in range(5)] for i in range(5)]\n",
        "print(lst)\n",
        "# [expression for i in range(5)] means expression executes and append the value to the list\n",
        "# here the expression is another list comprehension so for i = 0 the expression(list comprehension executes like normal list comprehension)"
      ],
      "metadata": {
        "id": "t0mqlqE_Uuzu",
        "colab": {
          "base_uri": "https://localhost:8080/"
        },
        "outputId": "bc41c68f-e547-4e4c-8160-d6342ef36df1"
      },
      "execution_count": 27,
      "outputs": [
        {
          "output_type": "stream",
          "name": "stdout",
          "text": [
            "[[0, 1, 2, 3, 4], [0, 1, 2, 3, 4], [0, 1, 2, 3, 4], [0, 1, 2, 3, 4], [0, 1, 2, 3, 4]]\n"
          ]
        }
      ]
    },
    {
      "cell_type": "code",
      "source": [
        "lst = [1,2,3,1,3,5,61,1]\n",
        "print(len(lst)) # returns the length of list\n",
        "print(min(lst)) # returns the minimum number from a list\n",
        "print(max(lst)) # returns the maximum number from a list\n",
        "lst.extend(('a','b'))\n",
        "print(len(lst)) # returns the length of list\n",
        "#print(min(lst)) # str and int element are not comparable\n",
        "#print(max(lst))"
      ],
      "metadata": {
        "id": "SdletzisYBsQ",
        "colab": {
          "base_uri": "https://localhost:8080/"
        },
        "outputId": "3190ac58-025a-4af3-9ba0-8c6a620eb59c"
      },
      "execution_count": 28,
      "outputs": [
        {
          "output_type": "stream",
          "name": "stdout",
          "text": [
            "8\n",
            "1\n",
            "61\n",
            "10\n"
          ]
        }
      ]
    },
    {
      "cell_type": "code",
      "source": [
        "lst = ['a','b','z']\n",
        "max(lst)"
      ],
      "metadata": {
        "id": "Z47y8xdyYceM",
        "colab": {
          "base_uri": "https://localhost:8080/",
          "height": 36
        },
        "outputId": "512d7faf-b8dc-4baa-aecd-ea36b82ef6f3"
      },
      "execution_count": 29,
      "outputs": [
        {
          "output_type": "execute_result",
          "data": {
            "text/plain": [
              "'z'"
            ],
            "application/vnd.google.colaboratory.intrinsic+json": {
              "type": "string"
            }
          },
          "metadata": {},
          "execution_count": 29
        }
      ]
    },
    {
      "cell_type": "code",
      "source": [
        "lst = [10, 20, 30, 10, 20, 10, 20, 30, 20, 10]\n",
        "print(lst.index(20)) # return the first occurrence of element after the begining and before end\n",
        "print(lst.index(20,-2,len(lst)-1)) # index(ele,-2,end)\n",
        "print(lst.index(20,6,9))"
      ],
      "metadata": {
        "id": "agZ_rpP1ZDvW",
        "colab": {
          "base_uri": "https://localhost:8080/"
        },
        "outputId": "e8b46138-b82e-4994-f47e-53efa1b3df47"
      },
      "execution_count": 30,
      "outputs": [
        {
          "output_type": "stream",
          "name": "stdout",
          "text": [
            "1\n",
            "8\n",
            "6\n"
          ]
        }
      ]
    },
    {
      "cell_type": "code",
      "source": [
        "# count returns the number of times element occurred in a list\n",
        "lst.count(10)"
      ],
      "metadata": {
        "id": "H6uyBqO4ZWrM",
        "colab": {
          "base_uri": "https://localhost:8080/"
        },
        "outputId": "1374c946-9ede-46f5-e88e-2ee4df4260b8"
      },
      "execution_count": 31,
      "outputs": [
        {
          "output_type": "execute_result",
          "data": {
            "text/plain": [
              "4"
            ]
          },
          "metadata": {},
          "execution_count": 31
        }
      ]
    },
    {
      "cell_type": "code",
      "source": [
        "lst"
      ],
      "metadata": {
        "id": "_LTYbQflaHt7",
        "colab": {
          "base_uri": "https://localhost:8080/"
        },
        "outputId": "61dc3153-4599-45d2-b833-5443bafb290b"
      },
      "execution_count": 32,
      "outputs": [
        {
          "output_type": "execute_result",
          "data": {
            "text/plain": [
              "[10, 20, 30, 10, 20, 10, 20, 30, 20, 10]"
            ]
          },
          "metadata": {},
          "execution_count": 32
        }
      ]
    },
    {
      "cell_type": "code",
      "source": [
        "sum(lst) # returns the sum of all elements in a list"
      ],
      "metadata": {
        "id": "MLF1tNJ1ace9",
        "colab": {
          "base_uri": "https://localhost:8080/"
        },
        "outputId": "c530c364-0894-4336-80b6-8f3823758a45"
      },
      "execution_count": 33,
      "outputs": [
        {
          "output_type": "execute_result",
          "data": {
            "text/plain": [
              "180"
            ]
          },
          "metadata": {},
          "execution_count": 33
        }
      ]
    },
    {
      "cell_type": "code",
      "source": [
        "l = ['a',1,2]\n",
        "sum(l)"
      ],
      "metadata": {
        "id": "tsMSfJKdad0-",
        "colab": {
          "base_uri": "https://localhost:8080/",
          "height": 182
        },
        "outputId": "cbe69c76-afb6-4b25-8b5c-0bbdea8c2520"
      },
      "execution_count": 34,
      "outputs": [
        {
          "output_type": "error",
          "ename": "TypeError",
          "evalue": "ignored",
          "traceback": [
            "\u001b[0;31m---------------------------------------------------------------------------\u001b[0m",
            "\u001b[0;31mTypeError\u001b[0m                                 Traceback (most recent call last)",
            "\u001b[0;32m<ipython-input-34-7ceac2062d61>\u001b[0m in \u001b[0;36m<cell line: 2>\u001b[0;34m()\u001b[0m\n\u001b[1;32m      1\u001b[0m \u001b[0ml\u001b[0m \u001b[0;34m=\u001b[0m \u001b[0;34m[\u001b[0m\u001b[0;34m'a'\u001b[0m\u001b[0;34m,\u001b[0m\u001b[0;36m1\u001b[0m\u001b[0;34m,\u001b[0m\u001b[0;36m2\u001b[0m\u001b[0;34m]\u001b[0m\u001b[0;34m\u001b[0m\u001b[0;34m\u001b[0m\u001b[0m\n\u001b[0;32m----> 2\u001b[0;31m \u001b[0msum\u001b[0m\u001b[0;34m(\u001b[0m\u001b[0ml\u001b[0m\u001b[0;34m)\u001b[0m\u001b[0;34m\u001b[0m\u001b[0;34m\u001b[0m\u001b[0m\n\u001b[0m",
            "\u001b[0;31mTypeError\u001b[0m: unsupported operand type(s) for +: 'int' and 'str'"
          ]
        }
      ]
    },
    {
      "cell_type": "code",
      "source": [
        "l = [int('a'),1,2]\n",
        "sum(l)"
      ],
      "metadata": {
        "id": "_k0q5CZdc05U",
        "colab": {
          "base_uri": "https://localhost:8080/",
          "height": 182
        },
        "outputId": "914b4587-6805-4ed8-f84f-554b4abc7ef5"
      },
      "execution_count": 35,
      "outputs": [
        {
          "output_type": "error",
          "ename": "ValueError",
          "evalue": "ignored",
          "traceback": [
            "\u001b[0;31m---------------------------------------------------------------------------\u001b[0m",
            "\u001b[0;31mValueError\u001b[0m                                Traceback (most recent call last)",
            "\u001b[0;32m<ipython-input-35-bc501f6d1437>\u001b[0m in \u001b[0;36m<cell line: 1>\u001b[0;34m()\u001b[0m\n\u001b[0;32m----> 1\u001b[0;31m \u001b[0ml\u001b[0m \u001b[0;34m=\u001b[0m \u001b[0;34m[\u001b[0m\u001b[0mint\u001b[0m\u001b[0;34m(\u001b[0m\u001b[0;34m'a'\u001b[0m\u001b[0;34m)\u001b[0m\u001b[0;34m,\u001b[0m\u001b[0;36m1\u001b[0m\u001b[0;34m,\u001b[0m\u001b[0;36m2\u001b[0m\u001b[0;34m]\u001b[0m\u001b[0;34m\u001b[0m\u001b[0;34m\u001b[0m\u001b[0m\n\u001b[0m\u001b[1;32m      2\u001b[0m \u001b[0msum\u001b[0m\u001b[0;34m(\u001b[0m\u001b[0ml\u001b[0m\u001b[0;34m)\u001b[0m\u001b[0;34m\u001b[0m\u001b[0;34m\u001b[0m\u001b[0m\n",
            "\u001b[0;31mValueError\u001b[0m: invalid literal for int() with base 10: 'a'"
          ]
        }
      ]
    },
    {
      "cell_type": "markdown",
      "source": [
        "del():\n",
        "* element to be deleted is mentioned by using list name and index"
      ],
      "metadata": {
        "id": "IDBUwwMYa9m6"
      }
    },
    {
      "cell_type": "code",
      "source": [
        "print(lst)\n",
        "del lst[-1]\n",
        "print(lst)"
      ],
      "metadata": {
        "id": "KSIiyWbQat4e",
        "colab": {
          "base_uri": "https://localhost:8080/"
        },
        "outputId": "307dc319-2645-4c25-f860-f947eefabf6b"
      },
      "execution_count": 36,
      "outputs": [
        {
          "output_type": "stream",
          "name": "stdout",
          "text": [
            "[10, 20, 30, 10, 20, 10, 20, 30, 20, 10]\n",
            "[10, 20, 30, 10, 20, 10, 20, 30, 20]\n"
          ]
        }
      ]
    },
    {
      "cell_type": "code",
      "source": [
        "del lst\n",
        "print(lst)"
      ],
      "metadata": {
        "id": "GrQiNOlBbG7J",
        "colab": {
          "base_uri": "https://localhost:8080/",
          "height": 182
        },
        "outputId": "95e72bf9-294d-46c9-da6d-4fd523111463"
      },
      "execution_count": 37,
      "outputs": [
        {
          "output_type": "error",
          "ename": "NameError",
          "evalue": "ignored",
          "traceback": [
            "\u001b[0;31m---------------------------------------------------------------------------\u001b[0m",
            "\u001b[0;31mNameError\u001b[0m                                 Traceback (most recent call last)",
            "\u001b[0;32m<ipython-input-37-e76bf22fb885>\u001b[0m in \u001b[0;36m<cell line: 2>\u001b[0;34m()\u001b[0m\n\u001b[1;32m      1\u001b[0m \u001b[0;32mdel\u001b[0m \u001b[0mlst\u001b[0m\u001b[0;34m\u001b[0m\u001b[0;34m\u001b[0m\u001b[0m\n\u001b[0;32m----> 2\u001b[0;31m \u001b[0mprint\u001b[0m\u001b[0;34m(\u001b[0m\u001b[0mlst\u001b[0m\u001b[0;34m)\u001b[0m\u001b[0;34m\u001b[0m\u001b[0;34m\u001b[0m\u001b[0m\n\u001b[0m",
            "\u001b[0;31mNameError\u001b[0m: name 'lst' is not defined"
          ]
        }
      ]
    },
    {
      "cell_type": "code",
      "source": [
        "lst = [1,2,3]\n",
        "lst1 = lst.copy()\n",
        "lst1[0]=10\n",
        "print(lst)\n",
        "print(lst1)"
      ],
      "metadata": {
        "id": "n1baZkjUbPoS",
        "colab": {
          "base_uri": "https://localhost:8080/"
        },
        "outputId": "b79c194d-b8a6-4376-d735-123758890dba"
      },
      "execution_count": 38,
      "outputs": [
        {
          "output_type": "stream",
          "name": "stdout",
          "text": [
            "[1, 2, 3]\n",
            "[10, 2, 3]\n"
          ]
        }
      ]
    },
    {
      "cell_type": "code",
      "source": [
        "lst.clear() # remove the all elements from a list\n",
        "print(lst)"
      ],
      "metadata": {
        "id": "OqrKwu-jbmn1",
        "colab": {
          "base_uri": "https://localhost:8080/"
        },
        "outputId": "85dab737-567f-4a6d-cebb-8166ca265431"
      },
      "execution_count": 39,
      "outputs": [
        {
          "output_type": "stream",
          "name": "stdout",
          "text": [
            "[]\n"
          ]
        }
      ]
    },
    {
      "cell_type": "markdown",
      "source": [
        "sort(reverse=True/False,key):\n",
        "*"
      ],
      "metadata": {
        "id": "t7HeuFR_dR4u"
      }
    },
    {
      "cell_type": "code",
      "source": [
        "lst =  [[\"ram\", \"mohan\", \"aman\"], [\"gaurav\"], [\"amy\", \"sima\", \"ankita\", \"rinku\"]]\n",
        "#lst.sort(key=len)\n",
        "#lst.sort()\n",
        "#sorted(lst,key=len)\n",
        "lst=sorted(lst,key=len)\n",
        "lst"
      ],
      "metadata": {
        "id": "wg6HIoyobq0Z",
        "colab": {
          "base_uri": "https://localhost:8080/"
        },
        "outputId": "c0440e0a-b06d-435b-c370-0248c7181406"
      },
      "execution_count": 40,
      "outputs": [
        {
          "output_type": "execute_result",
          "data": {
            "text/plain": [
              "[['gaurav'], ['ram', 'mohan', 'aman'], ['amy', 'sima', 'ankita', 'rinku']]"
            ]
          },
          "metadata": {},
          "execution_count": 40
        }
      ]
    },
    {
      "cell_type": "code",
      "source": [
        "lst1 = [23, 15, 2, 14, 14, 16, 20 ,52]\n",
        "lst2 = [2, 48, 15, 12, 26, 32, 47, 54]\n",
        "for i in lst2:\n",
        "  if i not in lst1:\n",
        "    lst1.append(i)\n",
        "  else:\n",
        "    continue\n",
        "lst1"
      ],
      "metadata": {
        "id": "ryGAS6KhdITv",
        "colab": {
          "base_uri": "https://localhost:8080/"
        },
        "outputId": "943e8ac0-dda9-403f-a957-3b8f7b388054"
      },
      "execution_count": 41,
      "outputs": [
        {
          "output_type": "execute_result",
          "data": {
            "text/plain": [
              "[23, 15, 2, 14, 14, 16, 20, 52, 48, 12, 26, 32, 47, 54]"
            ]
          },
          "metadata": {},
          "execution_count": 41
        }
      ]
    },
    {
      "cell_type": "code",
      "source": [
        "lst1 = [23, 15, 2, 14, 14, 16, 20 ,52]\n",
        "lst2 = [2, 48, 15, 12, 26, 32, 47, 54]\n",
        "print([i for i in lst1 if i in lst2])\n"
      ],
      "metadata": {
        "id": "57U0VGzxdJMQ",
        "colab": {
          "base_uri": "https://localhost:8080/"
        },
        "outputId": "cfd65c28-c409-4949-aa97-2d87f0a93d92"
      },
      "execution_count": 42,
      "outputs": [
        {
          "output_type": "stream",
          "name": "stdout",
          "text": [
            "[15, 2]\n"
          ]
        }
      ]
    },
    {
      "cell_type": "code",
      "source": [
        "lst = [10, 20, 30, 40, 50, 40, 40, 60, 70]\n",
        "count = 0\n",
        "for i in lst:\n",
        "  if i in range(40,80):\n",
        "    count += 1\n",
        "print(count)"
      ],
      "metadata": {
        "id": "HSyq8rqZ1fRh",
        "colab": {
          "base_uri": "https://localhost:8080/"
        },
        "outputId": "ea5cddc7-e4a0-45d0-f1d0-ae6a6de1a245"
      },
      "execution_count": 43,
      "outputs": [
        {
          "output_type": "stream",
          "name": "stdout",
          "text": [
            "6\n"
          ]
        }
      ]
    },
    {
      "cell_type": "code",
      "source": [
        "def func(ele):\n",
        "  lst = ['a','b','c','d','e']\n",
        "  if ele in lst:\n",
        "    return True\n",
        "  else: return False\n",
        "p = filter(func,['a','d',1]) # tests if each element of a list is true or not\n",
        "#print(p)\n",
        "for i in p:\n",
        "  print(i)"
      ],
      "metadata": {
        "id": "iH14fTe919fq",
        "colab": {
          "base_uri": "https://localhost:8080/"
        },
        "outputId": "f0279162-0d35-415c-bd1b-7528296463f2"
      },
      "execution_count": 44,
      "outputs": [
        {
          "output_type": "stream",
          "name": "stdout",
          "text": [
            "a\n",
            "d\n"
          ]
        }
      ]
    },
    {
      "cell_type": "code",
      "source": [
        "lst = ['a','b']#[1,2]\n",
        "''.join(lst)"
      ],
      "metadata": {
        "id": "9x-fkB7IMpVR",
        "colab": {
          "base_uri": "https://localhost:8080/",
          "height": 36
        },
        "outputId": "e70d31c4-4284-40e7-fea0-fced17d0370f"
      },
      "execution_count": 45,
      "outputs": [
        {
          "output_type": "execute_result",
          "data": {
            "text/plain": [
              "'ab'"
            ],
            "application/vnd.google.colaboratory.intrinsic+json": {
              "type": "string"
            }
          },
          "metadata": {},
          "execution_count": 45
        }
      ]
    },
    {
      "cell_type": "code",
      "source": [
        "digits=[1,2,3]\n",
        "stng = ''\n",
        "for i in digits:\n",
        "  stng += str(i)\n",
        "int(stng)"
      ],
      "metadata": {
        "id": "iDMNou87eVkA",
        "colab": {
          "base_uri": "https://localhost:8080/"
        },
        "outputId": "f49709c3-736d-48bb-f2d6-d4264570809a"
      },
      "execution_count": 46,
      "outputs": [
        {
          "output_type": "execute_result",
          "data": {
            "text/plain": [
              "123"
            ]
          },
          "metadata": {},
          "execution_count": 46
        }
      ]
    },
    {
      "cell_type": "markdown",
      "source": [
        "# Problems\n"
      ],
      "metadata": {
        "id": "qrvQZewm96fK"
      }
    },
    {
      "cell_type": "markdown",
      "source": [
        "**Interchange the first and last elements in a list**"
      ],
      "metadata": {
        "id": "y0zffagcDS0-"
      }
    },
    {
      "cell_type": "code",
      "source": [
        "lst = [1,10,22,4,2,0]\n",
        "# method 1\n",
        "lst[0],lst[len(lst)-1] = lst[len(lst)-1],lst[0]\n",
        "print(lst)\n",
        "\n",
        "# method 2\n",
        "lst = [1,10,22,4,2,0]\n",
        "a,*b,c = lst\n",
        "lst = c,*b,a\n",
        "print(*b)\n",
        "print(lst)\n",
        "print(list(lst))"
      ],
      "metadata": {
        "id": "98raxdR1-xF1",
        "colab": {
          "base_uri": "https://localhost:8080/"
        },
        "outputId": "e8b8f169-8e86-4bfc-aa83-6bd0c3d23871"
      },
      "execution_count": 47,
      "outputs": [
        {
          "output_type": "stream",
          "name": "stdout",
          "text": [
            "[0, 10, 22, 4, 2, 1]\n",
            "10 22 4 2\n",
            "(0, 10, 22, 4, 2, 1)\n",
            "[0, 10, 22, 4, 2, 1]\n"
          ]
        }
      ]
    },
    {
      "cell_type": "markdown",
      "source": [
        "**Swap any two elements in a list**"
      ],
      "metadata": {
        "id": "sAtR30fWDai3"
      }
    },
    {
      "cell_type": "code",
      "source": [
        "lst = [1,10,22,4,2,0]\n",
        "length = len(lst)\n",
        "index1 = int(input(\"enter first index to swap and it should be less than {} length of list \".format(length)))\n",
        "index2 = int(input(\"enter second index to swap and it should be less than {} length of list \".format(length)))\n",
        "lst[index1],lst[index2]=lst[index2],lst[index1]\n",
        "print(lst)"
      ],
      "metadata": {
        "id": "jVBHYWZ6-z7E",
        "colab": {
          "base_uri": "https://localhost:8080/"
        },
        "outputId": "e0527351-76c9-4109-d35f-e96f33b506d7"
      },
      "execution_count": 49,
      "outputs": [
        {
          "output_type": "stream",
          "name": "stdout",
          "text": [
            "enter first index to swap and it should be less than 6 length of list 2\n",
            "enter second index to swap and it should be less than 6 length of list 5\n",
            "[1, 10, 0, 4, 2, 22]\n"
          ]
        }
      ]
    },
    {
      "cell_type": "markdown",
      "source": [
        "**Find length of a list**"
      ],
      "metadata": {
        "id": "fTTnR6SgDgQS"
      }
    },
    {
      "cell_type": "code",
      "source": [
        "lst = [1,10,22,4,2,0]\n",
        "print(len(lst))\n",
        "\n",
        "count = 0\n",
        "for i in lst:\n",
        "  count += 1\n",
        "print(count)"
      ],
      "metadata": {
        "id": "78JOvi-U-0F0",
        "colab": {
          "base_uri": "https://localhost:8080/"
        },
        "outputId": "74130af4-01c2-434c-b3d1-c15b53186aab"
      },
      "execution_count": 50,
      "outputs": [
        {
          "output_type": "stream",
          "name": "stdout",
          "text": [
            "6\n",
            "6\n"
          ]
        }
      ]
    },
    {
      "cell_type": "markdown",
      "source": [
        "**Check if element exists in list**"
      ],
      "metadata": {
        "id": "QoDdiuoyDkEp"
      }
    },
    {
      "cell_type": "code",
      "source": [
        "lst = [1,10,22,4,2,0]\n",
        "ele = int(input(\"enter the element to check whether it existed in list or not:\"))\n",
        "#method 1\n",
        "if ele in lst:\n",
        "  print(\"exist\")\n",
        "else :\n",
        "  print(\"doesn't exist\")\n",
        "#method 2\n",
        "check = lst.count(ele)\n",
        "print(\"exist\") if check > 0 else print(\"doesn't exist\")\n",
        "\n",
        "#method 3\n",
        "for i in lst:\n",
        "  print(\"exist\") if (i == ele) else print(\"doesn't exist\")\n"
      ],
      "metadata": {
        "id": "dRv5cGo7-0JM",
        "colab": {
          "base_uri": "https://localhost:8080/"
        },
        "outputId": "7e926fcd-6a93-4afc-940e-9ecd0ef113c4"
      },
      "execution_count": 51,
      "outputs": [
        {
          "output_type": "stream",
          "name": "stdout",
          "text": [
            "enter the element to check whether it existed in list or not:3\n",
            "doesn't exist\n",
            "doesn't exist\n",
            "doesn't exist\n",
            "doesn't exist\n",
            "doesn't exist\n",
            "doesn't exist\n",
            "doesn't exist\n",
            "doesn't exist\n"
          ]
        }
      ]
    },
    {
      "cell_type": "markdown",
      "source": [
        "**Clear list**"
      ],
      "metadata": {
        "id": "hUxbO0C5Dovi"
      }
    },
    {
      "cell_type": "code",
      "source": [
        "lst = [1,10,22,4,2,0]\n",
        "print(lst)\n",
        "# method 1\n",
        "print(lst.clear(),lst)\n",
        "\n",
        "#method 2\n",
        "lst = [1,10,22,4,2,0]\n",
        "lst = lst[:0]\n",
        "print(lst)\n",
        "\n",
        "#method 3\n",
        "lst = [1,10,22,4,2,0]\n",
        "# list.pop(index)\n",
        "# it returns the last value or returns the given index value from the list\n",
        "while(len(lst)!= 0):\n",
        "  lst.pop()\n",
        "print(lst)\n",
        "\n",
        "#method 4\n",
        "lst = [1,10,22,4,2,0]\n",
        "del lst[:]\n",
        "print(lst)\n",
        "\n",
        "# if we used lst instead of lst[:] then entire list is deleted while printing lst we get error\n",
        "#lst = [1,10,22,4,2,0]\n",
        "#del lst\n",
        "#print(lst)\n"
      ],
      "metadata": {
        "id": "f0Kw32jK_C2B",
        "colab": {
          "base_uri": "https://localhost:8080/"
        },
        "outputId": "56acfa18-2cb1-45d7-e920-b6714946aa6f"
      },
      "execution_count": 52,
      "outputs": [
        {
          "output_type": "stream",
          "name": "stdout",
          "text": [
            "[1, 10, 22, 4, 2, 0]\n",
            "None []\n",
            "[]\n",
            "[]\n",
            "[]\n"
          ]
        }
      ]
    },
    {
      "cell_type": "markdown",
      "source": [
        "**Reversing a list**"
      ],
      "metadata": {
        "id": "sgzfX_JRDu85"
      }
    },
    {
      "cell_type": "code",
      "source": [
        "#method 1\n",
        "lst = [1,10,22,4,2,0]\n",
        "lst = lst[::-1]\n",
        "print(lst)\n",
        "\n",
        "#method 2\n",
        "lst = [1,10,22,4,2,0]\n",
        "new_lst = []\n",
        "for i in range((len(lst)-1), -1,-1):\n",
        "  new_lst.append(lst[i])\n",
        "print(new_lst)\n",
        "\n",
        "#method 3\n",
        "lst = [1,10,22,4,2,0]\n",
        "new_lst = []\n",
        "for i in lst:\n",
        "  new_lst.insert(0,i)\n",
        "print(new_lst)"
      ],
      "metadata": {
        "id": "yUEZZ9w-_C4W",
        "colab": {
          "base_uri": "https://localhost:8080/"
        },
        "outputId": "afc765d9-e80e-47a5-d1ae-a9cf969991ff"
      },
      "execution_count": 53,
      "outputs": [
        {
          "output_type": "stream",
          "name": "stdout",
          "text": [
            "[0, 2, 4, 22, 10, 1]\n",
            "[0, 2, 4, 22, 10, 1]\n",
            "[0, 2, 4, 22, 10, 1]\n"
          ]
        }
      ]
    },
    {
      "cell_type": "markdown",
      "source": [
        "**Sort the values of first list using second list**"
      ],
      "metadata": {
        "id": "rixAzLiuDz2L"
      }
    },
    {
      "cell_type": "code",
      "source": [
        "lst1 = ['a','b','c','d','e','f','g','h','i']\n",
        "lst2 = [0,1,1,0,2,2,0,1]\n",
        "new_lst = []\n",
        "#for i,ele in enumerate(lst2):\n",
        "  #print(i,ele)\n",
        "#  if i == ele:\n",
        "#    new_lst.append(lst1[i])\n",
        "#print(new_lst)\n",
        "\n",
        "lst_pairs = zip(lst2,lst1)\n",
        "#print(sorted(lst_pairs))\n",
        "for i,j in sorted(lst_pairs):\n",
        "  #pass\n",
        "  #print(i,j)\n",
        "  print(j,end=\" \")"
      ],
      "metadata": {
        "id": "MSvvxYbp_C5z",
        "colab": {
          "base_uri": "https://localhost:8080/"
        },
        "outputId": "ad10d0f2-ec8b-486e-aa38-74d236793bfe"
      },
      "execution_count": 54,
      "outputs": [
        {
          "output_type": "stream",
          "name": "stdout",
          "text": [
            "a d g b c h e f "
          ]
        }
      ]
    },
    {
      "cell_type": "markdown",
      "source": [
        "**Break a list into chunks of size N in python**"
      ],
      "metadata": {
        "id": "Lr16TS7GFRI8"
      }
    },
    {
      "cell_type": "code",
      "source": [
        "lst = [0,1,2,3,4,5,6,7,8]\n",
        "chunk = 4\n",
        "for i in range(0,len(lst),chunk):\n",
        "  print(lst[i:i+chunk])"
      ],
      "metadata": {
        "id": "9Ok7M81i_C9T",
        "colab": {
          "base_uri": "https://localhost:8080/"
        },
        "outputId": "2e1918be-367b-456f-85b3-b67f7e9f6b9b"
      },
      "execution_count": 55,
      "outputs": [
        {
          "output_type": "stream",
          "name": "stdout",
          "text": [
            "[0, 1, 2, 3]\n",
            "[4, 5, 6, 7]\n",
            "[8]\n"
          ]
        }
      ]
    },
    {
      "cell_type": "markdown",
      "source": [
        "**Sum of number digits in list**"
      ],
      "metadata": {
        "id": "pvfsCIOsFNX3"
      }
    },
    {
      "cell_type": "code",
      "source": [
        "lst = [21,35,81,11,10]\n",
        "new_lst = []\n",
        "for i in lst:\n",
        "  sum = 0\n",
        "  while i!=0:\n",
        "    remainder = i % 10\n",
        "    i = i // 10\n",
        "    sum +=remainder\n",
        "  new_lst.append(sum)\n",
        "print(new_lst)"
      ],
      "metadata": {
        "id": "VJ6hglVr_bLf",
        "colab": {
          "base_uri": "https://localhost:8080/"
        },
        "outputId": "a1211b8b-2ee8-4f63-bd17-9be9531d4710"
      },
      "execution_count": 56,
      "outputs": [
        {
          "output_type": "stream",
          "name": "stdout",
          "text": [
            "[3, 8, 9, 2, 1]\n"
          ]
        }
      ]
    },
    {
      "cell_type": "markdown",
      "source": [
        "**Find cumulative sum of a list**"
      ],
      "metadata": {
        "id": "jTWLH3hgFKXz"
      }
    },
    {
      "cell_type": "code",
      "source": [
        "lst = [1,2,3,4,5]\n",
        "#new_lst = []\n",
        "sum = 0\n",
        "for i in lst:\n",
        "  sum += i\n",
        "  print(sum,end=\" \")"
      ],
      "metadata": {
        "id": "EmExMXQh_bNz",
        "colab": {
          "base_uri": "https://localhost:8080/"
        },
        "outputId": "158d04d7-9ccf-4565-c085-0269d94f738f"
      },
      "execution_count": 57,
      "outputs": [
        {
          "output_type": "stream",
          "name": "stdout",
          "text": [
            "1 3 6 10 15 "
          ]
        }
      ]
    },
    {
      "cell_type": "markdown",
      "source": [
        "**Print duplicates from a list of integers**"
      ],
      "metadata": {
        "id": "kE0pwavRFGaj"
      }
    },
    {
      "cell_type": "code",
      "source": [
        "lst = [1,1,2,3,1,3,-1,2,4,0,-1,0]\n",
        "new_lst = []\n",
        "for i in range(len(lst)):\n",
        "  if lst[i] in lst[i+1:]:\n",
        "    #print(lst[i],end=' ')\n",
        "    if lst[i] not in new_lst:\n",
        "      new_lst.append(lst[i])\n",
        "print(new_lst)"
      ],
      "metadata": {
        "id": "_T1bF_8R_bRM",
        "colab": {
          "base_uri": "https://localhost:8080/"
        },
        "outputId": "78d67990-fbc3-4f7e-a256-87735a2924f7"
      },
      "execution_count": 58,
      "outputs": [
        {
          "output_type": "stream",
          "name": "stdout",
          "text": [
            "[1, 2, 3, -1, 0]\n"
          ]
        }
      ]
    },
    {
      "cell_type": "markdown",
      "source": [
        "**Removing Empty Tuples from a List of Tuples**"
      ],
      "metadata": {
        "id": "ra_vs02XFC1m"
      }
    },
    {
      "cell_type": "code",
      "source": [
        "lst_of_tples = [(), ('ram','15','8'), (), ('laxman', 'sita'), ('krishna', 'akbar', '45'), (','),()]\n",
        "for i in lst_of_tples:\n",
        "  if len(i) == 0:\n",
        "    lst_of_tples.remove(i)\n",
        "print(lst_of_tples)"
      ],
      "metadata": {
        "id": "dzPi2hVe_tQL",
        "colab": {
          "base_uri": "https://localhost:8080/"
        },
        "outputId": "460ea724-dbf9-4a69-ba86-6e70ea8f8ae5"
      },
      "execution_count": 61,
      "outputs": [
        {
          "output_type": "stream",
          "name": "stdout",
          "text": [
            "[('ram', '15', '8'), ('laxman', 'sita'), ('krishna', 'akbar', '45'), ',']\n"
          ]
        }
      ]
    },
    {
      "cell_type": "markdown",
      "source": [
        "**Finding Needle in a Haystack**"
      ],
      "metadata": {
        "id": "AQg1dD9kE7YF"
      }
    },
    {
      "cell_type": "code",
      "source": [
        "haystack = \"mississippi\"\n",
        "needle = \"issip\"\n",
        "l = len(needle)\n",
        "for i in range(len(haystack)):\n",
        "  if haystack[i:i+l] == needle:\n",
        "    print(i)"
      ],
      "metadata": {
        "id": "eaQypf0E_zz5",
        "colab": {
          "base_uri": "https://localhost:8080/"
        },
        "outputId": "7025dff2-37be-42c2-8561-515711ee1eba"
      },
      "execution_count": 62,
      "outputs": [
        {
          "output_type": "stream",
          "name": "stdout",
          "text": [
            "4\n"
          ]
        }
      ]
    },
    {
      "cell_type": "markdown",
      "source": [
        "**Transposing a Matrix**"
      ],
      "metadata": {
        "id": "6vPM0tXsEzoN"
      }
    },
    {
      "cell_type": "code",
      "source": [
        "m = [[1,2,9],[8,0,1],[3,4,5]]\n",
        "r = len(m)\n",
        "c = len(m[0])\n",
        "transpose = [[0 for j in range(r)]for i in range(c)]\n",
        "for i in range(r):\n",
        "  for j in range(c):\n",
        "    transpose[j][i]=m[i][j]\n",
        "transpose"
      ],
      "metadata": {
        "id": "xEh6LY8b_z3U",
        "colab": {
          "base_uri": "https://localhost:8080/"
        },
        "outputId": "f3e7533f-1a72-408e-d0b8-60b68a51b934"
      },
      "execution_count": 63,
      "outputs": [
        {
          "output_type": "execute_result",
          "data": {
            "text/plain": [
              "[[1, 8, 3], [2, 0, 4], [9, 1, 5]]"
            ]
          },
          "metadata": {},
          "execution_count": 63
        }
      ]
    },
    {
      "cell_type": "markdown",
      "source": [
        "**Removing Non-Alphabetic Characters from a String**"
      ],
      "metadata": {
        "id": "OGabasiUEqpu"
      }
    },
    {
      "cell_type": "code",
      "source": [
        "stng = '@#$%^&py$%..t@hon'\n",
        "stng = [i for i in stng if ord(i) in range(ord('a'),ord('z')+1) or ord(i) in range(ord('A'),ord('Z')+1) ]\n",
        "print(stng)\n",
        "print(''.join(stng))\n",
        "''.join(stng)"
      ],
      "metadata": {
        "id": "7YPx5oNjAdUP",
        "colab": {
          "base_uri": "https://localhost:8080/",
          "height": 70
        },
        "outputId": "ed6663a0-1622-4f78-e03c-fc9bb1b7e642"
      },
      "execution_count": 64,
      "outputs": [
        {
          "output_type": "stream",
          "name": "stdout",
          "text": [
            "['p', 'y', 't', 'h', 'o', 'n']\n",
            "python\n"
          ]
        },
        {
          "output_type": "execute_result",
          "data": {
            "text/plain": [
              "'python'"
            ],
            "application/vnd.google.colaboratory.intrinsic+json": {
              "type": "string"
            }
          },
          "metadata": {},
          "execution_count": 64
        }
      ]
    },
    {
      "cell_type": "markdown",
      "source": [
        "\n",
        "**Finding Subarrays with Zero Sum**\n",
        "\n",
        "\n",
        "Given an integer array, check if it contains a contiguous subarray having zero-sum.\n",
        "\n",
        "Input : [3, 4, -7, 3, 1, 3, 1, -4, -2, -2]\n",
        "\n",
        "Output: true\n",
        "\n",
        "Explanation: The subarrays with zero-sum are\n",
        "\n",
        "  [3, 4, -7]\n",
        "  [4, -7, 3]\n",
        "  [-7, 3, 1, 3]\n",
        "  [3, 1, -4]\n",
        "      [3, 1, 3, 1, -4, -2, -2]\n",
        "      [3, 4, -7, 3, 1, 3, 1, -4, -2, -2]\n",
        "\n",
        "Input : [4, -7, 1, -2, -1]\n",
        "\n",
        "Output: false\n",
        "Explanation: The subarray with zero-sum doesn't exist."
      ],
      "metadata": {
        "id": "iQ9U31w6Aulq"
      }
    },
    {
      "cell_type": "code",
      "source": [
        "#arr = [4, -7, 1, -2, -1]\n",
        "arr = [3, 4, -7, 3, 1, 3, 1, -4, -2, -2]\n",
        "for i in range(len(arr)): ### two for loops\n",
        "  sum = 0\n",
        "  #print(i)\n",
        "  for j in range(i,len(arr)):\n",
        "    sum += arr[j]\n",
        "    if sum == 0:\n",
        "      print(arr[i:j+1]) ###\n",
        "      break\n"
      ],
      "metadata": {
        "id": "F2xAO43g-Zbd",
        "colab": {
          "base_uri": "https://localhost:8080/"
        },
        "outputId": "7219d4e7-d3c7-4bba-c3dc-51f7af5e747b"
      },
      "execution_count": 65,
      "outputs": [
        {
          "output_type": "stream",
          "name": "stdout",
          "text": [
            "[3, 4, -7]\n",
            "[4, -7, 3]\n",
            "[-7, 3, 1, 3]\n",
            "[3, 1, 3, 1, -4, -2, -2]\n",
            "[3, 1, -4]\n"
          ]
        }
      ]
    }
  ]
}