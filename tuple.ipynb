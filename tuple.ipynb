{
  "nbformat": 4,
  "nbformat_minor": 0,
  "metadata": {
    "colab": {
      "provenance": []
    },
    "kernelspec": {
      "name": "python3",
      "display_name": "Python 3"
    },
    "language_info": {
      "name": "python"
    }
  },
  "cells": [
    {
      "cell_type": "markdown",
      "source": [
        "Tuples: The sequence of values in python can be of any datatype. The values are separated by commas. In tuple values are provided inside the parenthesis. But not necessirly because sequence of values are separated by comma with or without the parenthesis for grouping the data.\n",
        "* Creating a tuple without parentheses is known as tuple packing.\n",
        "* tuple is immutable.\n",
        "* Tuple elements can be accessed via unpacking the tuple or by indexing.\n",
        "* While unpacking tuple number of variable on the left and side should be equal to a number of values in a given tuple."
      ],
      "metadata": {
        "id": "QUATARdpdA-2"
      }
    },
    {
      "cell_type": "code",
      "source": [
        "#empty tuple\n",
        "empty_tuple = ()\n",
        "print(\"empty tuple:\",empty_tuple)\n",
        "\n",
        "tple = (1,2,'a')\n",
        "print(\"example:\",tple)\n",
        "\n",
        "#converting list into tuple\n",
        "lst = [1,2,3]\n",
        "print(lst,\"list into tuple:\",tuple(lst))\n",
        "\n",
        "t1 = (1)\n",
        "t2 = (1,)\n",
        "print(t1,t2)\n",
        "# t1 is just an integer and t2 is tuple\n",
        "# to be tuple with single element should have comma at the traling\n",
        "\n"
      ],
      "metadata": {
        "colab": {
          "base_uri": "https://localhost:8080/"
        },
        "id": "0ULeWfEHc21X",
        "outputId": "62e7cd36-7bde-4bad-b682-a29e6a5e7a4e"
      },
      "execution_count": null,
      "outputs": [
        {
          "output_type": "stream",
          "name": "stdout",
          "text": [
            "empty tuple: ()\n",
            "example: (1, 2, 'a')\n",
            "[1, 2, 3] list into tuple: (1, 2, 3)\n",
            "1 (1,)\n"
          ]
        }
      ]
    },
    {
      "cell_type": "code",
      "source": [
        "tple = ('ab',)\n",
        "for i in tple:\n",
        "  print(i)\n",
        "for i in range(5):\n",
        "  tple = (tple,)\n",
        "  print(tple)"
      ],
      "metadata": {
        "colab": {
          "base_uri": "https://localhost:8080/"
        },
        "id": "eZrJHkAOfUhP",
        "outputId": "0822297c-432c-498c-e131-43f55fc794a9"
      },
      "execution_count": null,
      "outputs": [
        {
          "output_type": "stream",
          "name": "stdout",
          "text": [
            "ab\n",
            "(('ab',),)\n",
            "((('ab',),),)\n",
            "(((('ab',),),),)\n",
            "((((('ab',),),),),)\n",
            "(((((('ab',),),),),),)\n"
          ]
        }
      ]
    },
    {
      "cell_type": "code",
      "source": [
        "tple=(\"a\",)*4\n",
        "print(tple)"
      ],
      "metadata": {
        "colab": {
          "base_uri": "https://localhost:8080/"
        },
        "id": "ppYRmBfogDlr",
        "outputId": "f951b6b8-e0d8-425f-f6f9-806333ab11c3"
      },
      "execution_count": null,
      "outputs": [
        {
          "output_type": "stream",
          "name": "stdout",
          "text": [
            "('a', 'a', 'a', 'a')\n"
          ]
        }
      ]
    },
    {
      "cell_type": "code",
      "source": [
        "tple=(\"a\")*4\n",
        "print(tple)"
      ],
      "metadata": {
        "colab": {
          "base_uri": "https://localhost:8080/"
        },
        "id": "6Mgl6xSdgbcm",
        "outputId": "da9b0b0d-1794-491f-cf45-9b6af3fb5cf8"
      },
      "execution_count": null,
      "outputs": [
        {
          "output_type": "stream",
          "name": "stdout",
          "text": [
            "aaaa\n"
          ]
        }
      ]
    },
    {
      "cell_type": "code",
      "source": [
        "tple=(\"a\",1)*4\n",
        "print(tple)"
      ],
      "metadata": {
        "colab": {
          "base_uri": "https://localhost:8080/"
        },
        "id": "GekrampwgY7V",
        "outputId": "1e8a26f5-12e1-43be-ab38-d7a04deb7b1a"
      },
      "execution_count": null,
      "outputs": [
        {
          "output_type": "stream",
          "name": "stdout",
          "text": [
            "('a', 1, 'a', 1, 'a', 1, 'a', 1)\n"
          ]
        }
      ]
    },
    {
      "cell_type": "code",
      "source": [
        "tple=((\"a\",1))*4\n",
        "print(tple)"
      ],
      "metadata": {
        "colab": {
          "base_uri": "https://localhost:8080/"
        },
        "id": "xlDtbUKLgWPD",
        "outputId": "e373adca-4702-483a-d26b-ce028c102892"
      },
      "execution_count": null,
      "outputs": [
        {
          "output_type": "stream",
          "name": "stdout",
          "text": [
            "('a', 1, 'a', 1, 'a', 1, 'a', 1)\n"
          ]
        }
      ]
    },
    {
      "cell_type": "code",
      "source": [
        "tple=((\"a\",1),)*4\n",
        "print(tple)"
      ],
      "metadata": {
        "colab": {
          "base_uri": "https://localhost:8080/"
        },
        "id": "TvU-jU14gRea",
        "outputId": "74e004cd-a269-4ded-daef-d4d1a2133c24"
      },
      "execution_count": null,
      "outputs": [
        {
          "output_type": "stream",
          "name": "stdout",
          "text": [
            "(('a', 1), ('a', 1), ('a', 1), ('a', 1))\n"
          ]
        }
      ]
    },
    {
      "cell_type": "code",
      "source": [
        "tple=((\"a\",1),10)*4\n",
        "print(tple)"
      ],
      "metadata": {
        "colab": {
          "base_uri": "https://localhost:8080/"
        },
        "id": "Xe0jUW_Rt2B8",
        "outputId": "c6494f99-bef5-4e09-ea0f-6e5ddbecaa28"
      },
      "execution_count": null,
      "outputs": [
        {
          "output_type": "stream",
          "name": "stdout",
          "text": [
            "(('a', 1), 10, ('a', 1), 10, ('a', 1), 10, ('a', 1), 10)\n"
          ]
        }
      ]
    },
    {
      "cell_type": "code",
      "source": [
        "tple = (1,23,456)\n",
        "a,b,c =tple\n",
        "print(a,b,c)"
      ],
      "metadata": {
        "colab": {
          "base_uri": "https://localhost:8080/"
        },
        "id": "D43ZG0GCged_",
        "outputId": "301cd925-4633-43a9-fe14-77d7ecf0e5f0"
      },
      "execution_count": null,
      "outputs": [
        {
          "output_type": "stream",
          "name": "stdout",
          "text": [
            "1 23 456\n"
          ]
        }
      ]
    },
    {
      "cell_type": "code",
      "source": [
        "tple = (1,23,456,7,8)\n",
        "a,*b,c =tple\n",
        "print(a,b,c)"
      ],
      "metadata": {
        "colab": {
          "base_uri": "https://localhost:8080/"
        },
        "id": "qB33u8TogegU",
        "outputId": "f2f89ce7-b3bd-4b10-b2b2-2649420fa8a6"
      },
      "execution_count": null,
      "outputs": [
        {
          "output_type": "stream",
          "name": "stdout",
          "text": [
            "1 [23, 456, 7] 8\n"
          ]
        }
      ]
    },
    {
      "cell_type": "code",
      "source": [
        "print(tple[1])\n",
        "print(tple[-1])\n",
        "print(tple[0:2])"
      ],
      "metadata": {
        "colab": {
          "base_uri": "https://localhost:8080/"
        },
        "id": "rJfr2wt3geiy",
        "outputId": "31cf6c0c-c67b-4f90-ea9a-a52febd315a6"
      },
      "execution_count": null,
      "outputs": [
        {
          "output_type": "stream",
          "name": "stdout",
          "text": [
            "23\n",
            "8\n",
            "(1, 23)\n"
          ]
        }
      ]
    },
    {
      "cell_type": "markdown",
      "source": [
        "Concatenation of tuple: joing two or more tuples.\n",
        "* this is done by using '+' operator\n",
        "* concatenation is always done from the end of the orginal tuple.\n"
      ],
      "metadata": {
        "id": "a3x1mH4liqTN"
      }
    },
    {
      "cell_type": "code",
      "source": [
        "t1 =(1,2,3,4)\n",
        "t2=('a','b','c')\n",
        "print(t1+t2)"
      ],
      "metadata": {
        "colab": {
          "base_uri": "https://localhost:8080/"
        },
        "id": "tdt2hfLWgele",
        "outputId": "c5280a07-72a0-4b03-89d5-9ffff28710e5"
      },
      "execution_count": null,
      "outputs": [
        {
          "output_type": "stream",
          "name": "stdout",
          "text": [
            "(1, 2, 3, 4, 'a', 'b', 'c')\n"
          ]
        }
      ]
    },
    {
      "cell_type": "code",
      "source": [
        "t1=[1,2,3]\n",
        "t3=[1,2,3]\n",
        "print(t1+t3)\n",
        "t2=('a','b','c')\n",
        "print(t1+t2)"
      ],
      "metadata": {
        "colab": {
          "base_uri": "https://localhost:8080/",
          "height": 217
        },
        "id": "Fr_WJk45ilpJ",
        "outputId": "cffa8c8c-cb60-4a2a-89da-156d09b44717"
      },
      "execution_count": null,
      "outputs": [
        {
          "output_type": "stream",
          "name": "stdout",
          "text": [
            "[1, 2, 3, 1, 2, 3]\n"
          ]
        },
        {
          "output_type": "error",
          "ename": "TypeError",
          "evalue": "ignored",
          "traceback": [
            "\u001b[0;31m---------------------------------------------------------------------------\u001b[0m",
            "\u001b[0;31mTypeError\u001b[0m                                 Traceback (most recent call last)",
            "\u001b[0;32m<ipython-input-1-9d3184e6bdaa>\u001b[0m in \u001b[0;36m<cell line: 5>\u001b[0;34m()\u001b[0m\n\u001b[1;32m      3\u001b[0m \u001b[0mprint\u001b[0m\u001b[0;34m(\u001b[0m\u001b[0mt1\u001b[0m\u001b[0;34m+\u001b[0m\u001b[0mt3\u001b[0m\u001b[0;34m)\u001b[0m\u001b[0;34m\u001b[0m\u001b[0;34m\u001b[0m\u001b[0m\n\u001b[1;32m      4\u001b[0m \u001b[0mt2\u001b[0m\u001b[0;34m=\u001b[0m\u001b[0;34m(\u001b[0m\u001b[0;34m'a'\u001b[0m\u001b[0;34m,\u001b[0m\u001b[0;34m'b'\u001b[0m\u001b[0;34m,\u001b[0m\u001b[0;34m'c'\u001b[0m\u001b[0;34m)\u001b[0m\u001b[0;34m\u001b[0m\u001b[0;34m\u001b[0m\u001b[0m\n\u001b[0;32m----> 5\u001b[0;31m \u001b[0mprint\u001b[0m\u001b[0;34m(\u001b[0m\u001b[0mt1\u001b[0m\u001b[0;34m+\u001b[0m\u001b[0mt2\u001b[0m\u001b[0;34m)\u001b[0m\u001b[0;34m\u001b[0m\u001b[0;34m\u001b[0m\u001b[0m\n\u001b[0m",
            "\u001b[0;31mTypeError\u001b[0m: can only concatenate list (not \"tuple\") to list"
          ]
        }
      ]
    },
    {
      "cell_type": "markdown",
      "source": [
        "Slicing of Tuple:\n",
        "fetching some range from given tuple.\n",
        "* indexing: fetching a single elment\n",
        "* slicing: fetching set of elements"
      ],
      "metadata": {
        "id": "mKAuQQ8vjVy1"
      }
    },
    {
      "cell_type": "markdown",
      "source": [
        "Deleting a tuple: As tuples are immutable so entire tuple gets deleted. Part of tuple or single elements cannot be deleted from tuple.\n"
      ],
      "metadata": {
        "id": "DviPNMshjzbF"
      }
    },
    {
      "cell_type": "code",
      "source": [
        "tple=(1,2,3)\n",
        "print(tple)\n",
        "del tple\n",
        "print(tple)"
      ],
      "metadata": {
        "colab": {
          "base_uri": "https://localhost:8080/",
          "height": 217
        },
        "id": "m1yc3SnYilrP",
        "outputId": "bf209a20-827e-43f0-ebf8-4cf8f84ff922"
      },
      "execution_count": null,
      "outputs": [
        {
          "output_type": "stream",
          "name": "stdout",
          "text": [
            "(1, 2, 3)\n"
          ]
        },
        {
          "output_type": "error",
          "ename": "NameError",
          "evalue": "ignored",
          "traceback": [
            "\u001b[0;31m---------------------------------------------------------------------------\u001b[0m",
            "\u001b[0;31mNameError\u001b[0m                                 Traceback (most recent call last)",
            "\u001b[0;32m<ipython-input-36-833985ee1128>\u001b[0m in \u001b[0;36m<cell line: 4>\u001b[0;34m()\u001b[0m\n\u001b[1;32m      2\u001b[0m \u001b[0mprint\u001b[0m\u001b[0;34m(\u001b[0m\u001b[0mtple\u001b[0m\u001b[0;34m)\u001b[0m\u001b[0;34m\u001b[0m\u001b[0;34m\u001b[0m\u001b[0m\n\u001b[1;32m      3\u001b[0m \u001b[0;32mdel\u001b[0m \u001b[0mtple\u001b[0m\u001b[0;34m\u001b[0m\u001b[0;34m\u001b[0m\u001b[0m\n\u001b[0;32m----> 4\u001b[0;31m \u001b[0mprint\u001b[0m\u001b[0;34m(\u001b[0m\u001b[0mtple\u001b[0m\u001b[0;34m)\u001b[0m\u001b[0;34m\u001b[0m\u001b[0;34m\u001b[0m\u001b[0m\n\u001b[0m",
            "\u001b[0;31mNameError\u001b[0m: name 'tple' is not defined"
          ]
        }
      ]
    },
    {
      "cell_type": "code",
      "source": [
        "tple = (1,2,3,4,'a','b','c')\n",
        "print(tple.index('a'))\n",
        "print(tple.count(1))\n",
        "print(len(tple))\n",
        "tple=(9.1,0,-1,10,4,7,19)\n",
        "print(max(tple))\n",
        "print(min(tple))\n",
        "print(sum(tple))\n",
        "print(enumerate(tple))\n",
        "print(sorted(tple))\n",
        "#tple = (1,'c')\n",
        "lst = [1,2]\n",
        "print(all(lst),any(lst))\n",
        "print(all(tple)) # return true if all elements in tuple is true or else returns false\n",
        "print(any(tple)) # return true if any element in tuple is true and return false if tuple is empty"
      ],
      "metadata": {
        "colab": {
          "base_uri": "https://localhost:8080/"
        },
        "id": "63Pkqj7pilxP",
        "outputId": "0b33c430-bdbd-4a34-c2f3-9296db09f99d"
      },
      "execution_count": null,
      "outputs": [
        {
          "output_type": "stream",
          "name": "stdout",
          "text": [
            "4\n",
            "1\n",
            "7\n",
            "19\n",
            "-1\n",
            "48.1\n",
            "<enumerate object at 0x7fd589c6cc80>\n",
            "[-1, 0, 4, 7, 9.1, 10, 19]\n",
            "True True\n",
            "False\n",
            "True\n"
          ]
        }
      ]
    },
    {
      "cell_type": "markdown",
      "source": [
        "sorted(iterable,key,reverse)\n",
        "* iterable: list,dict,tuple etc.,\n",
        "* key:it is a function decide the order\n",
        "* reverse: default is false and will sort in asecending if it is true will sort in descending order\n",
        "\n"
      ],
      "metadata": {
        "id": "lAJA5S1zWLLO"
      }
    },
    {
      "cell_type": "code",
      "source": [
        "# sort the tuple in increasing order by any key\n",
        "#tple = [(2, 5), (1, 2), (4, 4), (2, 3)]\n",
        "tple = [(23, 45, 20), (25, 44, 39), (89, 40, 23)]\n",
        "m = int(input(\"enter the key:\"))\n",
        "\n",
        "def sort_key(tple):\n",
        "  return tple[m]\n",
        "tple = sorted(tple,key=sort_key)\n",
        "print(tple)"
      ],
      "metadata": {
        "colab": {
          "base_uri": "https://localhost:8080/"
        },
        "id": "057w_wiSksbs",
        "outputId": "f6efcb0a-ff5d-448e-c038-204854aed002"
      },
      "execution_count": null,
      "outputs": [
        {
          "output_type": "stream",
          "name": "stdout",
          "text": [
            "enter the key:2\n",
            "[(23, 45, 20), (89, 40, 23), (25, 44, 39)]\n"
          ]
        }
      ]
    },
    {
      "cell_type": "code",
      "source": [
        "tp=('a','b','p','f','z')\n",
        "sorted(tp)"
      ],
      "metadata": {
        "colab": {
          "base_uri": "https://localhost:8080/"
        },
        "id": "TliW0BmOkseT",
        "outputId": "c4957e76-28db-4388-bbbd-233b21ee5290"
      },
      "execution_count": null,
      "outputs": [
        {
          "output_type": "execute_result",
          "data": {
            "text/plain": [
              "['a', 'b', 'f', 'p', 'z']"
            ]
          },
          "metadata": {},
          "execution_count": 41
        }
      ]
    },
    {
      "cell_type": "code",
      "source": [
        "# remove emty tuple from the list\n",
        "tples = [(), ('ram','15','8'), (), ('laxman', 'sita'), ('krishna', 'akbar', '45'), ('',''),()]\n",
        "for i in tples:\n",
        "  if i == ():\n",
        "    tples.remove(i)\n",
        "print(tples)"
      ],
      "metadata": {
        "colab": {
          "base_uri": "https://localhost:8080/"
        },
        "id": "WtywHh0qksh2",
        "outputId": "1e50fa8c-af54-4531-e3b0-cb7593c3bd1c"
      },
      "execution_count": null,
      "outputs": [
        {
          "output_type": "stream",
          "name": "stdout",
          "text": [
            "[('ram', '15', '8'), ('laxman', 'sita'), ('krishna', 'akbar', '45'), ('', '')]\n"
          ]
        }
      ]
    },
    {
      "cell_type": "code",
      "source": [],
      "metadata": {
        "id": "kwrV8HiFgeo9"
      },
      "execution_count": null,
      "outputs": []
    },
    {
      "cell_type": "code",
      "execution_count": null,
      "metadata": {
        "colab": {
          "base_uri": "https://localhost:8080/"
        },
        "id": "HtbMdzPcT1Hc",
        "outputId": "84065d42-c183-4ad4-b527-1a9d51be537a"
      },
      "outputs": [
        {
          "output_type": "stream",
          "name": "stdout",
          "text": [
            "64\n",
            "80\n"
          ]
        }
      ],
      "source": [
        "tple = (1,2,3,4,5)\n",
        "print(tple.__sizeof__())\n",
        "import sys\n",
        "print(sys.getsizeof(tple)) # this icludes garbage collection overhead of object"
      ]
    },
    {
      "cell_type": "code",
      "source": [
        "dir(tple)"
      ],
      "metadata": {
        "colab": {
          "base_uri": "https://localhost:8080/"
        },
        "id": "f5jO4QlQbnjL",
        "outputId": "469baf3c-c865-4cc5-b1d5-ba044b7ab6c2"
      },
      "execution_count": null,
      "outputs": [
        {
          "output_type": "execute_result",
          "data": {
            "text/plain": [
              "['__add__',\n",
              " '__class__',\n",
              " '__class_getitem__',\n",
              " '__contains__',\n",
              " '__delattr__',\n",
              " '__dir__',\n",
              " '__doc__',\n",
              " '__eq__',\n",
              " '__format__',\n",
              " '__ge__',\n",
              " '__getattribute__',\n",
              " '__getitem__',\n",
              " '__getnewargs__',\n",
              " '__gt__',\n",
              " '__hash__',\n",
              " '__init__',\n",
              " '__init_subclass__',\n",
              " '__iter__',\n",
              " '__le__',\n",
              " '__len__',\n",
              " '__lt__',\n",
              " '__mul__',\n",
              " '__ne__',\n",
              " '__new__',\n",
              " '__reduce__',\n",
              " '__reduce_ex__',\n",
              " '__repr__',\n",
              " '__rmul__',\n",
              " '__setattr__',\n",
              " '__sizeof__',\n",
              " '__str__',\n",
              " '__subclasshook__',\n",
              " 'count',\n",
              " 'index']"
            ]
          },
          "metadata": {},
          "execution_count": 44
        }
      ]
    },
    {
      "cell_type": "code",
      "source": [
        "# print unique rows in a given boolean matrix using set with tuples\n",
        "mat = [[0, 1, 0, 0, 1],\n",
        "             [1, 0, 1, 1, 0],\n",
        "             [0, 1, 0, 0, 1],\n",
        "             [1, 1, 1, 0, 0]]\n",
        "s = set()\n",
        "for i in mat:\n",
        "  s.add(tuple(i))\n",
        "for i in s:\n",
        "  print(i)\n"
      ],
      "metadata": {
        "colab": {
          "base_uri": "https://localhost:8080/"
        },
        "id": "yW-A_69ycgcY",
        "outputId": "e9111884-3c98-4bcd-db4a-b4d68ee9c9f1"
      },
      "execution_count": null,
      "outputs": [
        {
          "output_type": "stream",
          "name": "stdout",
          "text": [
            "(0, 1, 0, 0, 1)\n",
            "(1, 0, 1, 1, 0)\n",
            "(1, 1, 1, 0, 0)\n"
          ]
        }
      ]
    },
    {
      "cell_type": "code",
      "source": [
        "#generate all possible valid IP addresses from given string\n"
      ],
      "metadata": {
        "id": "8lGt-zm3Ze2o"
      },
      "execution_count": null,
      "outputs": []
    },
    {
      "cell_type": "code",
      "source": [
        "# generate two output strings depending upon occurence of character in input string\n",
        "strng = \"chintha pooja ch\"#\"geekspractice\"\n",
        "s1 = set()\n",
        "s2 = set()\n",
        "for i in strng:\n",
        "  if strng.count(i) > 1:\n",
        "    s1.add(i)\n",
        "  else:\n",
        "    s2.add(i)\n",
        "print(''.join(list(s1)))\n",
        "print(''.join(list(s2)))"
      ],
      "metadata": {
        "colab": {
          "base_uri": "https://localhost:8080/"
        },
        "id": "e_xo6j68Ze5D",
        "outputId": "8d00050b-1b67-4253-f02e-3666b4580d28"
      },
      "execution_count": null,
      "outputs": [
        {
          "output_type": "stream",
          "name": "stdout",
          "text": [
            "o ach\n",
            "pjint\n"
          ]
        }
      ]
    },
    {
      "cell_type": "code",
      "source": [
        "a= [(1,\"a\"),(2,\"b\")]\n",
        "dict(a)"
      ],
      "metadata": {
        "colab": {
          "base_uri": "https://localhost:8080/"
        },
        "id": "yp-T9mG_Ze7Z",
        "outputId": "f2efbc1e-e74e-4c93-fb06-d902ed25fc94"
      },
      "execution_count": null,
      "outputs": [
        {
          "output_type": "execute_result",
          "data": {
            "text/plain": [
              "{1: 'a', 2: 'b'}"
            ]
          },
          "metadata": {},
          "execution_count": 50
        }
      ]
    }
  ]
}