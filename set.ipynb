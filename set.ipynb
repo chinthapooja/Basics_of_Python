{
  "nbformat": 4,
  "nbformat_minor": 0,
  "metadata": {
    "colab": {
      "provenance": []
    },
    "kernelspec": {
      "name": "python3",
      "display_name": "Python 3"
    },
    "language_info": {
      "name": "python"
    }
  },
  "cells": [
    {
      "cell_type": "markdown",
      "source": [
        "Set:\n",
        "* unordered collection of datatype\n",
        "* mutable\n",
        "* contains no duplicate elements\n",
        "* the order of elements in set is undefined\n",
        "* compared to list set is highly optimsed method to check whether a element is present in the set or not\n",
        "* As set contains only unqiue elements but while creating set multiple duplicate elements value can alo be passed.\n"
      ],
      "metadata": {
        "id": "tHTWSuj2gn-I"
      }
    },
    {
      "cell_type": "code",
      "execution_count": null,
      "metadata": {
        "colab": {
          "base_uri": "https://localhost:8080/"
        },
        "id": "zSo7iNnhKFQf",
        "outputId": "78531464-ecff-4cc8-d6b1-64bab02bfaf0"
      },
      "outputs": [
        {
          "output_type": "stream",
          "name": "stdout",
          "text": [
            "empty set: set()\n",
            "()\n",
            "{'u', 'e', 't', 's', ' ', 'a', 'o', 'b'}\n",
            "\n",
            "{1, 'a'}\n"
          ]
        }
      ],
      "source": [
        "# creating set\n",
        "# using set()\n",
        "st = set()\n",
        "print(\"empty set:\",st)\n",
        "t=()\n",
        "print(t)\n",
        "st=set(\"about sets\")\n",
        "print(st)\n",
        "\n",
        "print()\n",
        "st=set(['a',1])\n",
        "print(st)"
      ]
    },
    {
      "cell_type": "code",
      "source": [
        "st=set(['a',1,[1,2]])\n",
        "print(st)"
      ],
      "metadata": {
        "colab": {
          "base_uri": "https://localhost:8080/",
          "height": 182
        },
        "id": "L7Xrd8aKie_X",
        "outputId": "624c1f69-932d-432c-f615-f1b3d1dd2f90"
      },
      "execution_count": null,
      "outputs": [
        {
          "output_type": "error",
          "ename": "TypeError",
          "evalue": "ignored",
          "traceback": [
            "\u001b[0;31m---------------------------------------------------------------------------\u001b[0m",
            "\u001b[0;31mTypeError\u001b[0m                                 Traceback (most recent call last)",
            "\u001b[0;32m<ipython-input-3-99d18ea31a26>\u001b[0m in \u001b[0;36m<cell line: 1>\u001b[0;34m()\u001b[0m\n\u001b[0;32m----> 1\u001b[0;31m \u001b[0mst\u001b[0m\u001b[0;34m=\u001b[0m\u001b[0mset\u001b[0m\u001b[0;34m(\u001b[0m\u001b[0;34m[\u001b[0m\u001b[0;34m'a'\u001b[0m\u001b[0;34m,\u001b[0m\u001b[0;36m1\u001b[0m\u001b[0;34m,\u001b[0m\u001b[0;34m[\u001b[0m\u001b[0;36m1\u001b[0m\u001b[0;34m,\u001b[0m\u001b[0;36m2\u001b[0m\u001b[0;34m]\u001b[0m\u001b[0;34m]\u001b[0m\u001b[0;34m)\u001b[0m\u001b[0;34m\u001b[0m\u001b[0;34m\u001b[0m\u001b[0m\n\u001b[0m\u001b[1;32m      2\u001b[0m \u001b[0mprint\u001b[0m\u001b[0;34m(\u001b[0m\u001b[0mst\u001b[0m\u001b[0;34m)\u001b[0m\u001b[0;34m\u001b[0m\u001b[0;34m\u001b[0m\u001b[0m\n",
            "\u001b[0;31mTypeError\u001b[0m: unhashable type: 'list'"
          ]
        }
      ]
    },
    {
      "cell_type": "code",
      "source": [
        "\n",
        "# set cannot have elemnets like list and dictionary\n",
        "s={1,[1,2]}\n",
        "print(s)"
      ],
      "metadata": {
        "colab": {
          "base_uri": "https://localhost:8080/",
          "height": 200
        },
        "id": "j2rC_7QXhvul",
        "outputId": "88cf9cd5-0bc3-41b3-d815-297477125fdf"
      },
      "execution_count": null,
      "outputs": [
        {
          "output_type": "error",
          "ename": "TypeError",
          "evalue": "ignored",
          "traceback": [
            "\u001b[0;31m---------------------------------------------------------------------------\u001b[0m",
            "\u001b[0;31mTypeError\u001b[0m                                 Traceback (most recent call last)",
            "\u001b[0;32m<ipython-input-4-263358c892ab>\u001b[0m in \u001b[0;36m<cell line: 2>\u001b[0;34m()\u001b[0m\n\u001b[1;32m      1\u001b[0m \u001b[0;31m# set cannot have elemnets like list and dictionary\u001b[0m\u001b[0;34m\u001b[0m\u001b[0;34m\u001b[0m\u001b[0m\n\u001b[0;32m----> 2\u001b[0;31m \u001b[0ms\u001b[0m\u001b[0;34m=\u001b[0m\u001b[0;34m{\u001b[0m\u001b[0;36m1\u001b[0m\u001b[0;34m,\u001b[0m\u001b[0;34m[\u001b[0m\u001b[0;36m1\u001b[0m\u001b[0;34m,\u001b[0m\u001b[0;36m2\u001b[0m\u001b[0;34m]\u001b[0m\u001b[0;34m}\u001b[0m\u001b[0;34m\u001b[0m\u001b[0;34m\u001b[0m\u001b[0m\n\u001b[0m\u001b[1;32m      3\u001b[0m \u001b[0mprint\u001b[0m\u001b[0;34m(\u001b[0m\u001b[0ms\u001b[0m\u001b[0;34m)\u001b[0m\u001b[0;34m\u001b[0m\u001b[0;34m\u001b[0m\u001b[0m\n",
            "\u001b[0;31mTypeError\u001b[0m: unhashable type: 'list'"
          ]
        }
      ]
    },
    {
      "cell_type": "code",
      "source": [
        "\n",
        "# set can have tuple because tuple elements are hashable where as list elements are not hashable\n",
        "s={1,(1,2)}\n",
        "print(s)"
      ],
      "metadata": {
        "colab": {
          "base_uri": "https://localhost:8080/"
        },
        "id": "potlIabkjYSx",
        "outputId": "fbd0226f-10f4-42ba-bcf8-186424ce79e4"
      },
      "execution_count": null,
      "outputs": [
        {
          "output_type": "stream",
          "name": "stdout",
          "text": [
            "{1, (1, 2)}\n"
          ]
        }
      ]
    },
    {
      "cell_type": "code",
      "source": [
        "lst = [1,2]\n",
        "tple = (1,2)\n",
        "st = {1,2}\n",
        "#object which never changes during its lifetime\n",
        "print(hash(tple))\n",
        "print(hash(st))\n",
        "print(hash(lst))"
      ],
      "metadata": {
        "colab": {
          "base_uri": "https://localhost:8080/",
          "height": 235
        },
        "id": "mKvow56bpKB7",
        "outputId": "011cb3cb-3fb1-49b1-8cfb-762f640fef5c"
      },
      "execution_count": null,
      "outputs": [
        {
          "output_type": "stream",
          "name": "stdout",
          "text": [
            "-3550055125485641917\n"
          ]
        },
        {
          "output_type": "error",
          "ename": "TypeError",
          "evalue": "ignored",
          "traceback": [
            "\u001b[0;31m---------------------------------------------------------------------------\u001b[0m",
            "\u001b[0;31mTypeError\u001b[0m                                 Traceback (most recent call last)",
            "\u001b[0;32m<ipython-input-11-4a99f05f6ace>\u001b[0m in \u001b[0;36m<cell line: 6>\u001b[0;34m()\u001b[0m\n\u001b[1;32m      4\u001b[0m \u001b[0;31m#object which never changes during its lifetime\u001b[0m\u001b[0;34m\u001b[0m\u001b[0;34m\u001b[0m\u001b[0m\n\u001b[1;32m      5\u001b[0m \u001b[0mprint\u001b[0m\u001b[0;34m(\u001b[0m\u001b[0mhash\u001b[0m\u001b[0;34m(\u001b[0m\u001b[0mtple\u001b[0m\u001b[0;34m)\u001b[0m\u001b[0;34m)\u001b[0m\u001b[0;34m\u001b[0m\u001b[0;34m\u001b[0m\u001b[0m\n\u001b[0;32m----> 6\u001b[0;31m \u001b[0mprint\u001b[0m\u001b[0;34m(\u001b[0m\u001b[0mhash\u001b[0m\u001b[0;34m(\u001b[0m\u001b[0mst\u001b[0m\u001b[0;34m)\u001b[0m\u001b[0;34m)\u001b[0m\u001b[0;34m\u001b[0m\u001b[0;34m\u001b[0m\u001b[0m\n\u001b[0m\u001b[1;32m      7\u001b[0m \u001b[0mprint\u001b[0m\u001b[0;34m(\u001b[0m\u001b[0mhash\u001b[0m\u001b[0;34m(\u001b[0m\u001b[0mlst\u001b[0m\u001b[0;34m)\u001b[0m\u001b[0;34m)\u001b[0m\u001b[0;34m\u001b[0m\u001b[0;34m\u001b[0m\u001b[0m\n",
            "\u001b[0;31mTypeError\u001b[0m: unhashable type: 'set'"
          ]
        }
      ]
    },
    {
      "cell_type": "markdown",
      "source": [
        "add():\n",
        "* to add elements to set\n",
        "* only one element can be added by using add method\n",
        "* to add multiple elemnets keep add method in loop\n"
      ],
      "metadata": {
        "id": "vKckbKW3jEDs"
      }
    },
    {
      "cell_type": "code",
      "source": [
        "s={'a',1,2}\n",
        "s.add(3)\n",
        "print(s)\n",
        "s.add((10,20))\n",
        "print(s)\n",
        "s.add({3,4})\n",
        "print(s)\n",
        "s.add([11,12])\n",
        "print(s)"
      ],
      "metadata": {
        "colab": {
          "base_uri": "https://localhost:8080/",
          "height": 269
        },
        "id": "NUVf-3g8ioZ2",
        "outputId": "1e3936e1-93b8-4ac2-d8f7-138cbd7df827"
      },
      "execution_count": null,
      "outputs": [
        {
          "output_type": "stream",
          "name": "stdout",
          "text": [
            "{1, 2, 3, 'a'}\n",
            "{1, 2, 3, (10, 20), 'a'}\n"
          ]
        },
        {
          "output_type": "error",
          "ename": "TypeError",
          "evalue": "ignored",
          "traceback": [
            "\u001b[0;31m---------------------------------------------------------------------------\u001b[0m",
            "\u001b[0;31mTypeError\u001b[0m                                 Traceback (most recent call last)",
            "\u001b[0;32m<ipython-input-1-d5e2c05e95e1>\u001b[0m in \u001b[0;36m<cell line: 6>\u001b[0;34m()\u001b[0m\n\u001b[1;32m      4\u001b[0m \u001b[0ms\u001b[0m\u001b[0;34m.\u001b[0m\u001b[0madd\u001b[0m\u001b[0;34m(\u001b[0m\u001b[0;34m(\u001b[0m\u001b[0;36m10\u001b[0m\u001b[0;34m,\u001b[0m\u001b[0;36m20\u001b[0m\u001b[0;34m)\u001b[0m\u001b[0;34m)\u001b[0m\u001b[0;34m\u001b[0m\u001b[0;34m\u001b[0m\u001b[0m\n\u001b[1;32m      5\u001b[0m \u001b[0mprint\u001b[0m\u001b[0;34m(\u001b[0m\u001b[0ms\u001b[0m\u001b[0;34m)\u001b[0m\u001b[0;34m\u001b[0m\u001b[0;34m\u001b[0m\u001b[0m\n\u001b[0;32m----> 6\u001b[0;31m \u001b[0ms\u001b[0m\u001b[0;34m.\u001b[0m\u001b[0madd\u001b[0m\u001b[0;34m(\u001b[0m\u001b[0;34m{\u001b[0m\u001b[0;36m3\u001b[0m\u001b[0;34m,\u001b[0m\u001b[0;36m4\u001b[0m\u001b[0;34m}\u001b[0m\u001b[0;34m)\u001b[0m\u001b[0;34m\u001b[0m\u001b[0;34m\u001b[0m\u001b[0m\n\u001b[0m\u001b[1;32m      7\u001b[0m \u001b[0mprint\u001b[0m\u001b[0;34m(\u001b[0m\u001b[0ms\u001b[0m\u001b[0;34m)\u001b[0m\u001b[0;34m\u001b[0m\u001b[0;34m\u001b[0m\u001b[0m\n\u001b[1;32m      8\u001b[0m \u001b[0ms\u001b[0m\u001b[0;34m.\u001b[0m\u001b[0madd\u001b[0m\u001b[0;34m(\u001b[0m\u001b[0;34m[\u001b[0m\u001b[0;36m11\u001b[0m\u001b[0;34m,\u001b[0m\u001b[0;36m12\u001b[0m\u001b[0;34m]\u001b[0m\u001b[0;34m)\u001b[0m\u001b[0;34m\u001b[0m\u001b[0;34m\u001b[0m\u001b[0m\n",
            "\u001b[0;31mTypeError\u001b[0m: unhashable type: 'set'"
          ]
        }
      ]
    },
    {
      "cell_type": "markdown",
      "source": [
        "update():\n",
        "* using update() method multiple elements can be added\n",
        "* element to be added kept inside []\n",
        "update(3) gives error but update([3]) doesnot\n"
      ],
      "metadata": {
        "id": "Z-MVqVo3j2j2"
      }
    },
    {
      "cell_type": "code",
      "source": [
        "s={'a',1,2}\n",
        "s.update([3]) # s.update(3)\n",
        "print(s)\n",
        "s.update([(10,20)])\n",
        "print(s)\n",
        "s.update([2.5,7])\n",
        "print(s)\n",
        "s.update({\"p\",\"o\"})\n",
        "print(s)\n",
        "s.update(s)\n",
        "print(s)"
      ],
      "metadata": {
        "colab": {
          "base_uri": "https://localhost:8080/"
        },
        "id": "HDExxl0rjyc9",
        "outputId": "bb195f57-69c8-46d6-b0a7-d609844a8311"
      },
      "execution_count": null,
      "outputs": [
        {
          "output_type": "stream",
          "name": "stdout",
          "text": [
            "{1, 2, 3, 'a'}\n",
            "{1, 2, 3, (10, 20), 'a'}\n",
            "{1, 2, 3, 2.5, 7, (10, 20), 'a'}\n",
            "{1, 2, 3, 2.5, 'p', 7, 'o', (10, 20), 'a'}\n",
            "{1, 2, 3, 2.5, 'p', 7, 'o', (10, 20), 'a'}\n"
          ]
        }
      ]
    },
    {
      "cell_type": "markdown",
      "source": [
        "Accesing set:\n",
        "* set elements cannot be accessed using indexing(bacause set elements are unordered)\n",
        "* by using loop we can get set elements\n",
        "* we can if element is present in set or not by using in keyword"
      ],
      "metadata": {
        "id": "oq46LZmalN9S"
      }
    },
    {
      "cell_type": "code",
      "source": [
        "for i in s:\n",
        "  print(i,end=\" \")\n",
        "print()\n",
        "if 'a' in s:\n",
        "  print(True)\n",
        "else:\n",
        "  print(False)"
      ],
      "metadata": {
        "colab": {
          "base_uri": "https://localhost:8080/"
        },
        "id": "qUFIKIADkGoV",
        "outputId": "a75c7ef1-f4d9-438e-a4f0-4a8d5c17ab62"
      },
      "execution_count": null,
      "outputs": [
        {
          "output_type": "stream",
          "name": "stdout",
          "text": [
            "1 2 3 2.5 7 a p (10, 20) o \n",
            "True\n"
          ]
        }
      ]
    },
    {
      "cell_type": "markdown",
      "source": [
        "remove() and discard():\n",
        "* if we use remove method and element is not present in set then we get key error\n",
        "* to remove elements from set witout getting errro use dicard method\n"
      ],
      "metadata": {
        "id": "iNkKDXQTmK22"
      }
    },
    {
      "cell_type": "code",
      "source": [
        "s={1, 2, 3, 'a', 2.5, 'o', 7, 'p', (10, 20)}\n",
        "s.remove(4)"
      ],
      "metadata": {
        "colab": {
          "base_uri": "https://localhost:8080/",
          "height": 182
        },
        "id": "e3qXXAs6l3y0",
        "outputId": "f4cfd881-8405-4d3f-e9f4-685803345013"
      },
      "execution_count": null,
      "outputs": [
        {
          "output_type": "error",
          "ename": "KeyError",
          "evalue": "ignored",
          "traceback": [
            "\u001b[0;31m---------------------------------------------------------------------------\u001b[0m",
            "\u001b[0;31mKeyError\u001b[0m                                  Traceback (most recent call last)",
            "\u001b[0;32m<ipython-input-34-e8455131580c>\u001b[0m in \u001b[0;36m<cell line: 2>\u001b[0;34m()\u001b[0m\n\u001b[1;32m      1\u001b[0m \u001b[0ms\u001b[0m\u001b[0;34m=\u001b[0m\u001b[0;34m{\u001b[0m\u001b[0;36m1\u001b[0m\u001b[0;34m,\u001b[0m \u001b[0;36m2\u001b[0m\u001b[0;34m,\u001b[0m \u001b[0;36m3\u001b[0m\u001b[0;34m,\u001b[0m \u001b[0;34m'a'\u001b[0m\u001b[0;34m,\u001b[0m \u001b[0;36m2.5\u001b[0m\u001b[0;34m,\u001b[0m \u001b[0;34m'o'\u001b[0m\u001b[0;34m,\u001b[0m \u001b[0;36m7\u001b[0m\u001b[0;34m,\u001b[0m \u001b[0;34m'p'\u001b[0m\u001b[0;34m,\u001b[0m \u001b[0;34m(\u001b[0m\u001b[0;36m10\u001b[0m\u001b[0;34m,\u001b[0m \u001b[0;36m20\u001b[0m\u001b[0;34m)\u001b[0m\u001b[0;34m}\u001b[0m\u001b[0;34m\u001b[0m\u001b[0;34m\u001b[0m\u001b[0m\n\u001b[0;32m----> 2\u001b[0;31m \u001b[0ms\u001b[0m\u001b[0;34m.\u001b[0m\u001b[0mremove\u001b[0m\u001b[0;34m(\u001b[0m\u001b[0;36m4\u001b[0m\u001b[0;34m)\u001b[0m\u001b[0;34m\u001b[0m\u001b[0;34m\u001b[0m\u001b[0m\n\u001b[0m",
            "\u001b[0;31mKeyError\u001b[0m: 4"
          ]
        }
      ]
    },
    {
      "cell_type": "code",
      "source": [
        "s={1, 2, 3, 'a', 2.5, 'o', 7, 'p', (10, 20)}\n",
        "z=s.discard(4)\n",
        "print(z,s)"
      ],
      "metadata": {
        "colab": {
          "base_uri": "https://localhost:8080/"
        },
        "id": "0VCiKjdemrF6",
        "outputId": "d39beb0f-0f81-49dd-d5b1-a627d1718e24"
      },
      "execution_count": null,
      "outputs": [
        {
          "output_type": "stream",
          "name": "stdout",
          "text": [
            "None {1, 2.5, 2, 3, 7, 'a', 'p', (10, 20), 'o'}\n"
          ]
        }
      ]
    },
    {
      "cell_type": "code",
      "source": [
        "s={1, 2, 3, 'a', 2.5, 'o', 7, 'p', (10, 20)}\n",
        "s.discard(10)\n",
        "print(s)"
      ],
      "metadata": {
        "colab": {
          "base_uri": "https://localhost:8080/"
        },
        "id": "c2hh_ZPymvVE",
        "outputId": "62233d71-c596-4cdc-bedb-218aa2646f7b"
      },
      "execution_count": null,
      "outputs": [
        {
          "output_type": "stream",
          "name": "stdout",
          "text": [
            "{1, 2.5, 2, 3, 7, 'a', 'p', (10, 20), 'o'}\n"
          ]
        }
      ]
    },
    {
      "cell_type": "code",
      "source": [
        "s={1, 2, 3, 'a', 2.5, 'o', 7, 'p', (10, 20)}\n",
        "s.discard((10,20))\n",
        "print(s)"
      ],
      "metadata": {
        "colab": {
          "base_uri": "https://localhost:8080/"
        },
        "id": "IHP-uzxEnCI_",
        "outputId": "802ace81-5d8e-4216-8d5b-f12d85ec2fc2"
      },
      "execution_count": null,
      "outputs": [
        {
          "output_type": "stream",
          "name": "stdout",
          "text": [
            "{1, 2.5, 2, 3, 7, 'a', 'p', 'o'}\n"
          ]
        }
      ]
    },
    {
      "cell_type": "markdown",
      "source": [
        "pop():\n",
        "* pop method removes and return the random element from set\n",
        "* but it is impossible detemine which element to be removed"
      ],
      "metadata": {
        "id": "6kdw_dgrnKQN"
      }
    },
    {
      "cell_type": "code",
      "source": [
        "s={1, 2, 3, 'a', 2.5, 'o', 7, 'p', (10, 20)}\n",
        "z=s.pop()\n",
        "print(z,s)"
      ],
      "metadata": {
        "colab": {
          "base_uri": "https://localhost:8080/"
        },
        "id": "vaiStSC5nHEw",
        "outputId": "b632001e-fea9-44f1-8b55-1c702da87a05"
      },
      "execution_count": null,
      "outputs": [
        {
          "output_type": "stream",
          "name": "stdout",
          "text": [
            "1 {2.5, 2, 3, 7, 'a', 'p', (10, 20), 'o'}\n"
          ]
        }
      ]
    },
    {
      "cell_type": "markdown",
      "source": [
        "clear():\n",
        "* empty the set"
      ],
      "metadata": {
        "id": "OVWiG141nxGM"
      }
    },
    {
      "cell_type": "code",
      "source": [
        "s={1, 2, 3, 'a', 2.5, 'o', 7, 'p', (10, 20)}\n",
        "z=s.clear()\n",
        "print(z,s)"
      ],
      "metadata": {
        "colab": {
          "base_uri": "https://localhost:8080/"
        },
        "id": "F0sABFHJnj5h",
        "outputId": "3ea0ac47-82db-4535-cbb2-8fff7feb78e2"
      },
      "execution_count": null,
      "outputs": [
        {
          "output_type": "stream",
          "name": "stdout",
          "text": [
            "None set()\n"
          ]
        }
      ]
    },
    {
      "cell_type": "markdown",
      "source": [
        "frozenset():\n",
        "* is immutable"
      ],
      "metadata": {
        "id": "QVq4YmAQoja6"
      }
    },
    {
      "cell_type": "code",
      "source": [
        "s=('a','n','b','j','s')\n",
        "s1=frozenset(s)\n",
        "print(s,s1,frozenset())# to have empty frozenset() use this"
      ],
      "metadata": {
        "colab": {
          "base_uri": "https://localhost:8080/"
        },
        "id": "vneSV0urnmzU",
        "outputId": "e0f3dd65-cafd-48d6-cdef-eea34d668452"
      },
      "execution_count": null,
      "outputs": [
        {
          "output_type": "stream",
          "name": "stdout",
          "text": [
            "('a', 'n', 'b', 'j', 's') frozenset({'b', 'n', 'a', 's', 'j'}) frozenset()\n"
          ]
        }
      ]
    },
    {
      "cell_type": "code",
      "source": [
        "s1={1,2,3,5}\n",
        "s2={4,5,6}\n",
        "print(set.union(s1,s2))\n",
        "print(s1.union(s2))\n",
        "print(s2.union(s1))\n",
        "print()\n",
        "print(s1.intersection(s2))\n",
        "print()\n",
        "print(s1.difference(s2))\n",
        "print(s2.difference(s1))\n",
        "print()\n",
        "print(s1.difference_update(s2),s1,s2) # update the existing set(here s1) with the diffence of two sets\n",
        "print()\n",
        "p=s1.isdisjoint(s2)\n",
        "print(p,s1.isdisjoint(s2))\n",
        "\n",
        "print()\n",
        "p=s1.issuperset(s2)\n",
        "\n",
        "print(p,s1.issuperset(s2))\n",
        "print(s1.issubset(s2))"
      ],
      "metadata": {
        "colab": {
          "base_uri": "https://localhost:8080/"
        },
        "id": "C58IDp2IoS8M",
        "outputId": "41befb92-e751-481a-ec1d-950202a869d0"
      },
      "execution_count": null,
      "outputs": [
        {
          "output_type": "stream",
          "name": "stdout",
          "text": [
            "{1, 2, 3, 4, 5, 6}\n",
            "{1, 2, 3, 4, 5, 6}\n",
            "{1, 2, 3, 4, 5, 6}\n",
            "\n",
            "{5}\n",
            "\n",
            "{1, 2, 3}\n",
            "{4, 6}\n",
            "\n",
            "None {1, 2, 3} {4, 5, 6}\n",
            "\n",
            "True True\n",
            "\n",
            "False False\n",
            "False\n"
          ]
        }
      ]
    },
    {
      "cell_type": "code",
      "source": [],
      "metadata": {
        "id": "lyUZrVhGpRd4"
      },
      "execution_count": null,
      "outputs": []
    }
  ]
}